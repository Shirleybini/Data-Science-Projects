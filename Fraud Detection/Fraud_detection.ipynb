{
 "cells": [
  {
   "cell_type": "markdown",
   "id": "3c485721",
   "metadata": {},
   "source": [
    "# Credit Card Fraud Detection - Shirley Sinha"
   ]
  },
  {
   "cell_type": "markdown",
   "id": "9bffb4b2",
   "metadata": {},
   "source": [
    "## Libraries"
   ]
  },
  {
   "cell_type": "code",
   "execution_count": 1,
   "id": "81aab089",
   "metadata": {},
   "outputs": [],
   "source": [
    "import pandas as pd\n",
    "import numpy as np\n",
    "import seaborn as sns\n",
    "\n",
    "import matplotlib.pyplot as plt\n",
    "\n",
    "from sklearn.preprocessing import OrdinalEncoder,LabelEncoder\n",
    "from sklearn.preprocessing import StandardScaler\n",
    "\n",
    "from sklearn.model_selection import train_test_split\n",
    "from sklearn.linear_model import LogisticRegression\n",
    "from sklearn.ensemble import RandomForestClassifier\n",
    "from sklearn.tree import DecisionTreeClassifier\n",
    "from sklearn.metrics import classification_report, confusion_matrix\n",
    "from sklearn.metrics import accuracy_score, f1_score, precision_score, recall_score\n",
    "from sklearn.metrics import roc_auc_score\n",
    "\n",
    "\n",
    "import json\n",
    "import csv"
   ]
  },
  {
   "cell_type": "code",
   "execution_count": 2,
   "id": "dd1c3bba",
   "metadata": {},
   "outputs": [],
   "source": [
    "#converting text to csv \n",
    "\n",
    "def json_to_csv(txt_file, csv_file):\n",
    "\n",
    "    lista = []\n",
    "    with open(txt_file, 'r') as in_file:\n",
    "        lines = in_file.readlines()\n",
    "        for line in lines:\n",
    "            try:\n",
    "                dict_line = json.loads(line)\n",
    "                lista.append(dict_line)\n",
    "            except Exception as err:\n",
    "                print(err)\n",
    "\n",
    "    header = ['accountNumber', 'customerId', 'creditLimit', 'availableMoney',\n",
    "       'transactionDateTime', 'transactionAmount', 'merchantName',\n",
    "       'acqCountry', 'merchantCountryCode', 'posEntryMode', 'posConditionCode',\n",
    "       'merchantCategoryCode', 'currentExpDate', 'accountOpenDate',\n",
    "       'dateOfLastAddressChange', 'cardCVV', 'enteredCVV', 'cardLast4Digits',\n",
    "       'transactionType', 'echoBuffer', 'currentBalance', 'merchantCity',\n",
    "       'merchantState', 'merchantZip', 'cardPresent', 'posOnPremises',\n",
    "       'recurringAuthInd', 'expirationDateKeyInMatch', 'isFraud'\n",
    "        \n",
    "    ]\n",
    "    with open(csv_file, 'w+') as out_file:\n",
    "        dict_writer = csv.DictWriter(out_file, header)\n",
    "        dict_writer.writeheader()\n",
    "        dict_writer.writerows(lista)"
   ]
  },
  {
   "cell_type": "code",
   "execution_count": 3,
   "id": "da258b08",
   "metadata": {},
   "outputs": [],
   "source": [
    "json_to_csv('transactions.txt', 'transactions.csv')"
   ]
  },
  {
   "cell_type": "markdown",
   "id": "b7135112",
   "metadata": {},
   "source": [
    "## Reading Data"
   ]
  },
  {
   "cell_type": "code",
   "execution_count": 4,
   "id": "668ee43c",
   "metadata": {},
   "outputs": [],
   "source": [
    "df = pd.read_csv('transactions.csv')"
   ]
  },
  {
   "cell_type": "code",
   "execution_count": 5,
   "id": "f5a8db8a",
   "metadata": {},
   "outputs": [
    {
     "data": {
      "text/html": [
       "<div>\n",
       "<style scoped>\n",
       "    .dataframe tbody tr th:only-of-type {\n",
       "        vertical-align: middle;\n",
       "    }\n",
       "\n",
       "    .dataframe tbody tr th {\n",
       "        vertical-align: top;\n",
       "    }\n",
       "\n",
       "    .dataframe thead th {\n",
       "        text-align: right;\n",
       "    }\n",
       "</style>\n",
       "<table border=\"1\" class=\"dataframe\">\n",
       "  <thead>\n",
       "    <tr style=\"text-align: right;\">\n",
       "      <th></th>\n",
       "      <th>accountNumber</th>\n",
       "      <th>customerId</th>\n",
       "      <th>creditLimit</th>\n",
       "      <th>availableMoney</th>\n",
       "      <th>transactionDateTime</th>\n",
       "      <th>transactionAmount</th>\n",
       "      <th>merchantName</th>\n",
       "      <th>acqCountry</th>\n",
       "      <th>merchantCountryCode</th>\n",
       "      <th>posEntryMode</th>\n",
       "      <th>...</th>\n",
       "      <th>echoBuffer</th>\n",
       "      <th>currentBalance</th>\n",
       "      <th>merchantCity</th>\n",
       "      <th>merchantState</th>\n",
       "      <th>merchantZip</th>\n",
       "      <th>cardPresent</th>\n",
       "      <th>posOnPremises</th>\n",
       "      <th>recurringAuthInd</th>\n",
       "      <th>expirationDateKeyInMatch</th>\n",
       "      <th>isFraud</th>\n",
       "    </tr>\n",
       "  </thead>\n",
       "  <tbody>\n",
       "    <tr>\n",
       "      <th>0</th>\n",
       "      <td>737265056</td>\n",
       "      <td>737265056</td>\n",
       "      <td>5000.0</td>\n",
       "      <td>5000.0</td>\n",
       "      <td>2016-08-13T14:27:32</td>\n",
       "      <td>98.55</td>\n",
       "      <td>Uber</td>\n",
       "      <td>US</td>\n",
       "      <td>US</td>\n",
       "      <td>2.0</td>\n",
       "      <td>...</td>\n",
       "      <td>NaN</td>\n",
       "      <td>0.0</td>\n",
       "      <td>NaN</td>\n",
       "      <td>NaN</td>\n",
       "      <td>NaN</td>\n",
       "      <td>False</td>\n",
       "      <td>NaN</td>\n",
       "      <td>NaN</td>\n",
       "      <td>False</td>\n",
       "      <td>False</td>\n",
       "    </tr>\n",
       "    <tr>\n",
       "      <th>1</th>\n",
       "      <td>737265056</td>\n",
       "      <td>737265056</td>\n",
       "      <td>5000.0</td>\n",
       "      <td>5000.0</td>\n",
       "      <td>2016-10-11T05:05:54</td>\n",
       "      <td>74.51</td>\n",
       "      <td>AMC #191138</td>\n",
       "      <td>US</td>\n",
       "      <td>US</td>\n",
       "      <td>9.0</td>\n",
       "      <td>...</td>\n",
       "      <td>NaN</td>\n",
       "      <td>0.0</td>\n",
       "      <td>NaN</td>\n",
       "      <td>NaN</td>\n",
       "      <td>NaN</td>\n",
       "      <td>True</td>\n",
       "      <td>NaN</td>\n",
       "      <td>NaN</td>\n",
       "      <td>False</td>\n",
       "      <td>False</td>\n",
       "    </tr>\n",
       "    <tr>\n",
       "      <th>2</th>\n",
       "      <td>737265056</td>\n",
       "      <td>737265056</td>\n",
       "      <td>5000.0</td>\n",
       "      <td>5000.0</td>\n",
       "      <td>2016-11-08T09:18:39</td>\n",
       "      <td>7.47</td>\n",
       "      <td>Play Store</td>\n",
       "      <td>US</td>\n",
       "      <td>US</td>\n",
       "      <td>9.0</td>\n",
       "      <td>...</td>\n",
       "      <td>NaN</td>\n",
       "      <td>0.0</td>\n",
       "      <td>NaN</td>\n",
       "      <td>NaN</td>\n",
       "      <td>NaN</td>\n",
       "      <td>False</td>\n",
       "      <td>NaN</td>\n",
       "      <td>NaN</td>\n",
       "      <td>False</td>\n",
       "      <td>False</td>\n",
       "    </tr>\n",
       "    <tr>\n",
       "      <th>3</th>\n",
       "      <td>737265056</td>\n",
       "      <td>737265056</td>\n",
       "      <td>5000.0</td>\n",
       "      <td>5000.0</td>\n",
       "      <td>2016-12-10T02:14:50</td>\n",
       "      <td>7.47</td>\n",
       "      <td>Play Store</td>\n",
       "      <td>US</td>\n",
       "      <td>US</td>\n",
       "      <td>9.0</td>\n",
       "      <td>...</td>\n",
       "      <td>NaN</td>\n",
       "      <td>0.0</td>\n",
       "      <td>NaN</td>\n",
       "      <td>NaN</td>\n",
       "      <td>NaN</td>\n",
       "      <td>False</td>\n",
       "      <td>NaN</td>\n",
       "      <td>NaN</td>\n",
       "      <td>False</td>\n",
       "      <td>False</td>\n",
       "    </tr>\n",
       "    <tr>\n",
       "      <th>4</th>\n",
       "      <td>830329091</td>\n",
       "      <td>830329091</td>\n",
       "      <td>5000.0</td>\n",
       "      <td>5000.0</td>\n",
       "      <td>2016-03-24T21:04:46</td>\n",
       "      <td>71.18</td>\n",
       "      <td>Tim Hortons #947751</td>\n",
       "      <td>US</td>\n",
       "      <td>US</td>\n",
       "      <td>2.0</td>\n",
       "      <td>...</td>\n",
       "      <td>NaN</td>\n",
       "      <td>0.0</td>\n",
       "      <td>NaN</td>\n",
       "      <td>NaN</td>\n",
       "      <td>NaN</td>\n",
       "      <td>True</td>\n",
       "      <td>NaN</td>\n",
       "      <td>NaN</td>\n",
       "      <td>False</td>\n",
       "      <td>False</td>\n",
       "    </tr>\n",
       "  </tbody>\n",
       "</table>\n",
       "<p>5 rows × 29 columns</p>\n",
       "</div>"
      ],
      "text/plain": [
       "   accountNumber  customerId  creditLimit  availableMoney  \\\n",
       "0      737265056   737265056       5000.0          5000.0   \n",
       "1      737265056   737265056       5000.0          5000.0   \n",
       "2      737265056   737265056       5000.0          5000.0   \n",
       "3      737265056   737265056       5000.0          5000.0   \n",
       "4      830329091   830329091       5000.0          5000.0   \n",
       "\n",
       "   transactionDateTime  transactionAmount         merchantName acqCountry  \\\n",
       "0  2016-08-13T14:27:32              98.55                 Uber         US   \n",
       "1  2016-10-11T05:05:54              74.51          AMC #191138         US   \n",
       "2  2016-11-08T09:18:39               7.47           Play Store         US   \n",
       "3  2016-12-10T02:14:50               7.47           Play Store         US   \n",
       "4  2016-03-24T21:04:46              71.18  Tim Hortons #947751         US   \n",
       "\n",
       "  merchantCountryCode  posEntryMode  ...  echoBuffer currentBalance  \\\n",
       "0                  US           2.0  ...         NaN            0.0   \n",
       "1                  US           9.0  ...         NaN            0.0   \n",
       "2                  US           9.0  ...         NaN            0.0   \n",
       "3                  US           9.0  ...         NaN            0.0   \n",
       "4                  US           2.0  ...         NaN            0.0   \n",
       "\n",
       "  merchantCity merchantState merchantZip  cardPresent  posOnPremises  \\\n",
       "0          NaN           NaN         NaN        False            NaN   \n",
       "1          NaN           NaN         NaN         True            NaN   \n",
       "2          NaN           NaN         NaN        False            NaN   \n",
       "3          NaN           NaN         NaN        False            NaN   \n",
       "4          NaN           NaN         NaN         True            NaN   \n",
       "\n",
       "   recurringAuthInd expirationDateKeyInMatch  isFraud  \n",
       "0               NaN                    False    False  \n",
       "1               NaN                    False    False  \n",
       "2               NaN                    False    False  \n",
       "3               NaN                    False    False  \n",
       "4               NaN                    False    False  \n",
       "\n",
       "[5 rows x 29 columns]"
      ]
     },
     "execution_count": 5,
     "metadata": {},
     "output_type": "execute_result"
    }
   ],
   "source": [
    "df.head()"
   ]
  },
  {
   "cell_type": "code",
   "execution_count": 6,
   "id": "f448cef7",
   "metadata": {},
   "outputs": [
    {
     "data": {
      "text/plain": [
       "(786363, 29)"
      ]
     },
     "execution_count": 6,
     "metadata": {},
     "output_type": "execute_result"
    }
   ],
   "source": [
    "df.shape"
   ]
  },
  {
   "cell_type": "code",
   "execution_count": 7,
   "id": "cd5c2cdf",
   "metadata": {},
   "outputs": [
    {
     "name": "stdout",
     "output_type": "stream",
     "text": [
      "<class 'pandas.core.frame.DataFrame'>\n",
      "RangeIndex: 786363 entries, 0 to 786362\n",
      "Data columns (total 29 columns):\n",
      " #   Column                    Non-Null Count   Dtype  \n",
      "---  ------                    --------------   -----  \n",
      " 0   accountNumber             786363 non-null  int64  \n",
      " 1   customerId                786363 non-null  int64  \n",
      " 2   creditLimit               786363 non-null  float64\n",
      " 3   availableMoney            786363 non-null  float64\n",
      " 4   transactionDateTime       786363 non-null  object \n",
      " 5   transactionAmount         786363 non-null  float64\n",
      " 6   merchantName              786363 non-null  object \n",
      " 7   acqCountry                781801 non-null  object \n",
      " 8   merchantCountryCode       785639 non-null  object \n",
      " 9   posEntryMode              782309 non-null  float64\n",
      " 10  posConditionCode          785954 non-null  float64\n",
      " 11  merchantCategoryCode      786363 non-null  object \n",
      " 12  currentExpDate            786363 non-null  object \n",
      " 13  accountOpenDate           786363 non-null  object \n",
      " 14  dateOfLastAddressChange   786363 non-null  object \n",
      " 15  cardCVV                   786363 non-null  int64  \n",
      " 16  enteredCVV                786363 non-null  int64  \n",
      " 17  cardLast4Digits           786363 non-null  int64  \n",
      " 18  transactionType           785665 non-null  object \n",
      " 19  echoBuffer                0 non-null       float64\n",
      " 20  currentBalance            786363 non-null  float64\n",
      " 21  merchantCity              0 non-null       float64\n",
      " 22  merchantState             0 non-null       float64\n",
      " 23  merchantZip               0 non-null       float64\n",
      " 24  cardPresent               786363 non-null  bool   \n",
      " 25  posOnPremises             0 non-null       float64\n",
      " 26  recurringAuthInd          0 non-null       float64\n",
      " 27  expirationDateKeyInMatch  786363 non-null  bool   \n",
      " 28  isFraud                   786363 non-null  bool   \n",
      "dtypes: bool(3), float64(12), int64(5), object(9)\n",
      "memory usage: 158.2+ MB\n"
     ]
    }
   ],
   "source": [
    "df.info()"
   ]
  },
  {
   "cell_type": "code",
   "execution_count": null,
   "id": "b651e737",
   "metadata": {},
   "outputs": [],
   "source": []
  },
  {
   "cell_type": "markdown",
   "id": "5177c9a7",
   "metadata": {},
   "source": [
    "## Data Cleaning"
   ]
  },
  {
   "cell_type": "code",
   "execution_count": 8,
   "id": "27f4ccab",
   "metadata": {},
   "outputs": [],
   "source": [
    "#remove empty columns\n",
    "\n",
    "df = df.drop(['echoBuffer','merchantCity','merchantState','merchantZip','posOnPremises', 'recurringAuthInd'], axis = 1)"
   ]
  },
  {
   "cell_type": "code",
   "execution_count": 9,
   "id": "1fad14c3",
   "metadata": {},
   "outputs": [
    {
     "data": {
      "text/plain": [
       "accountNumber                  0\n",
       "customerId                     0\n",
       "creditLimit                    0\n",
       "availableMoney                 0\n",
       "transactionDateTime            0\n",
       "transactionAmount              0\n",
       "merchantName                   0\n",
       "acqCountry                  4562\n",
       "merchantCountryCode          724\n",
       "posEntryMode                4054\n",
       "posConditionCode             409\n",
       "merchantCategoryCode           0\n",
       "currentExpDate                 0\n",
       "accountOpenDate                0\n",
       "dateOfLastAddressChange        0\n",
       "cardCVV                        0\n",
       "enteredCVV                     0\n",
       "cardLast4Digits                0\n",
       "transactionType              698\n",
       "currentBalance                 0\n",
       "cardPresent                    0\n",
       "expirationDateKeyInMatch       0\n",
       "isFraud                        0\n",
       "dtype: int64"
      ]
     },
     "execution_count": 9,
     "metadata": {},
     "output_type": "execute_result"
    }
   ],
   "source": [
    "df.isnull().sum()"
   ]
  },
  {
   "cell_type": "code",
   "execution_count": null,
   "id": "97443fc4",
   "metadata": {},
   "outputs": [],
   "source": []
  },
  {
   "cell_type": "code",
   "execution_count": 10,
   "id": "518a1f90",
   "metadata": {},
   "outputs": [
    {
     "data": {
      "text/plain": [
       "array(['Uber', 'AMC #191138', 'Play Store', ..., 'ATT #141119',\n",
       "       'EZ Wireless #200746', 'Runners #747070'], dtype=object)"
      ]
     },
     "execution_count": 10,
     "metadata": {},
     "output_type": "execute_result"
    }
   ],
   "source": [
    "df['merchantName'].unique()"
   ]
  },
  {
   "cell_type": "code",
   "execution_count": 11,
   "id": "a7c10bac",
   "metadata": {},
   "outputs": [
    {
     "data": {
      "text/plain": [
       "2490"
      ]
     },
     "execution_count": 11,
     "metadata": {},
     "output_type": "execute_result"
    }
   ],
   "source": [
    "df['merchantName'].nunique()"
   ]
  },
  {
   "cell_type": "code",
   "execution_count": 12,
   "id": "f967898b",
   "metadata": {},
   "outputs": [
    {
     "data": {
      "text/plain": [
       "array(['US', nan, 'CAN', 'MEX', 'PR'], dtype=object)"
      ]
     },
     "execution_count": 12,
     "metadata": {},
     "output_type": "execute_result"
    }
   ],
   "source": [
    "df['acqCountry'].unique()"
   ]
  },
  {
   "cell_type": "code",
   "execution_count": 13,
   "id": "556c1d37",
   "metadata": {},
   "outputs": [
    {
     "data": {
      "text/plain": [
       "array(['US', 'CAN', nan, 'PR', 'MEX'], dtype=object)"
      ]
     },
     "execution_count": 13,
     "metadata": {},
     "output_type": "execute_result"
    }
   ],
   "source": [
    "df['merchantCountryCode'].unique()"
   ]
  },
  {
   "cell_type": "code",
   "execution_count": 14,
   "id": "515e5c98",
   "metadata": {},
   "outputs": [
    {
     "data": {
      "text/plain": [
       "array([ 2.,  9.,  5., 80., 90., nan])"
      ]
     },
     "execution_count": 14,
     "metadata": {},
     "output_type": "execute_result"
    }
   ],
   "source": [
    "df['posEntryMode'].unique()"
   ]
  },
  {
   "cell_type": "code",
   "execution_count": 15,
   "id": "7c820cb8",
   "metadata": {},
   "outputs": [
    {
     "data": {
      "text/plain": [
       "array([ 1.,  8., 99., nan])"
      ]
     },
     "execution_count": 15,
     "metadata": {},
     "output_type": "execute_result"
    }
   ],
   "source": [
    "df['posConditionCode'].unique()"
   ]
  },
  {
   "cell_type": "code",
   "execution_count": 16,
   "id": "7e4db45c",
   "metadata": {},
   "outputs": [
    {
     "data": {
      "text/plain": [
       "array(['PURCHASE', 'ADDRESS_VERIFICATION', 'REVERSAL', nan], dtype=object)"
      ]
     },
     "execution_count": 16,
     "metadata": {},
     "output_type": "execute_result"
    }
   ],
   "source": [
    "df['transactionType'].unique()"
   ]
  },
  {
   "cell_type": "code",
   "execution_count": null,
   "id": "b9f3b718",
   "metadata": {},
   "outputs": [],
   "source": []
  },
  {
   "cell_type": "code",
   "execution_count": 17,
   "id": "a59a8c1c",
   "metadata": {},
   "outputs": [],
   "source": [
    "#replacing nan values\n",
    "\n",
    "df['acqCountry'] = df['acqCountry'].fillna(df['acqCountry'].mode().iloc[0])\n",
    "df['merchantCountryCode'] = df['merchantCountryCode'].fillna(df['merchantCountryCode'].mode().iloc[0])\n",
    "df['posEntryMode'] = df['posEntryMode'].fillna(df['posEntryMode'].mode().iloc[0])\n",
    "df['posConditionCode'] = df['posConditionCode'].fillna(df['posConditionCode'].mode().iloc[0])\n",
    "df['transactionType'] = df['transactionType'].fillna(df['transactionType'].mode().iloc[0])"
   ]
  },
  {
   "cell_type": "code",
   "execution_count": 18,
   "id": "6a327bd7",
   "metadata": {},
   "outputs": [],
   "source": [
    "def CVV(df):\n",
    "\n",
    "    if (df['cardCVV'] == df['enteredCVV']):\n",
    "        return 'Correct'\n",
    "    else:\n",
    "        return 'NotCorrect'\n",
    "\n"
   ]
  },
  {
   "cell_type": "code",
   "execution_count": 19,
   "id": "fd8370bb",
   "metadata": {},
   "outputs": [],
   "source": [
    "df['CorrectCVV'] = df.apply(CVV,axis =1)"
   ]
  },
  {
   "cell_type": "code",
   "execution_count": 20,
   "id": "11ff7a8f",
   "metadata": {},
   "outputs": [
    {
     "name": "stdout",
     "output_type": "stream",
     "text": [
      "<class 'pandas.core.frame.DataFrame'>\n",
      "RangeIndex: 786363 entries, 0 to 786362\n",
      "Data columns (total 24 columns):\n",
      " #   Column                    Non-Null Count   Dtype  \n",
      "---  ------                    --------------   -----  \n",
      " 0   accountNumber             786363 non-null  int64  \n",
      " 1   customerId                786363 non-null  int64  \n",
      " 2   creditLimit               786363 non-null  float64\n",
      " 3   availableMoney            786363 non-null  float64\n",
      " 4   transactionDateTime       786363 non-null  object \n",
      " 5   transactionAmount         786363 non-null  float64\n",
      " 6   merchantName              786363 non-null  object \n",
      " 7   acqCountry                786363 non-null  object \n",
      " 8   merchantCountryCode       786363 non-null  object \n",
      " 9   posEntryMode              786363 non-null  float64\n",
      " 10  posConditionCode          786363 non-null  float64\n",
      " 11  merchantCategoryCode      786363 non-null  object \n",
      " 12  currentExpDate            786363 non-null  object \n",
      " 13  accountOpenDate           786363 non-null  object \n",
      " 14  dateOfLastAddressChange   786363 non-null  object \n",
      " 15  cardCVV                   786363 non-null  int64  \n",
      " 16  enteredCVV                786363 non-null  int64  \n",
      " 17  cardLast4Digits           786363 non-null  int64  \n",
      " 18  transactionType           786363 non-null  object \n",
      " 19  currentBalance            786363 non-null  float64\n",
      " 20  cardPresent               786363 non-null  bool   \n",
      " 21  expirationDateKeyInMatch  786363 non-null  bool   \n",
      " 22  isFraud                   786363 non-null  bool   \n",
      " 23  CorrectCVV                786363 non-null  object \n",
      "dtypes: bool(3), float64(6), int64(5), object(10)\n",
      "memory usage: 128.2+ MB\n"
     ]
    }
   ],
   "source": [
    "df.info()"
   ]
  },
  {
   "cell_type": "code",
   "execution_count": 21,
   "id": "9848a1f5",
   "metadata": {},
   "outputs": [],
   "source": [
    "#remove unnecessary columns\n",
    "df = df.drop(['accountNumber','customerId','merchantName'], axis = 1)\n",
    "df = df.drop(['transactionDateTime','currentExpDate','accountOpenDate','dateOfLastAddressChange',\n",
    "              'cardCVV','enteredCVV','cardLast4Digits'],axis = 1)"
   ]
  },
  {
   "cell_type": "code",
   "execution_count": 22,
   "id": "17b2e7f0",
   "metadata": {},
   "outputs": [
    {
     "name": "stdout",
     "output_type": "stream",
     "text": [
      "<class 'pandas.core.frame.DataFrame'>\n",
      "RangeIndex: 786363 entries, 0 to 786362\n",
      "Data columns (total 14 columns):\n",
      " #   Column                    Non-Null Count   Dtype  \n",
      "---  ------                    --------------   -----  \n",
      " 0   creditLimit               786363 non-null  float64\n",
      " 1   availableMoney            786363 non-null  float64\n",
      " 2   transactionAmount         786363 non-null  float64\n",
      " 3   acqCountry                786363 non-null  object \n",
      " 4   merchantCountryCode       786363 non-null  object \n",
      " 5   posEntryMode              786363 non-null  float64\n",
      " 6   posConditionCode          786363 non-null  float64\n",
      " 7   merchantCategoryCode      786363 non-null  object \n",
      " 8   transactionType           786363 non-null  object \n",
      " 9   currentBalance            786363 non-null  float64\n",
      " 10  cardPresent               786363 non-null  bool   \n",
      " 11  expirationDateKeyInMatch  786363 non-null  bool   \n",
      " 12  isFraud                   786363 non-null  bool   \n",
      " 13  CorrectCVV                786363 non-null  object \n",
      "dtypes: bool(3), float64(6), object(5)\n",
      "memory usage: 68.2+ MB\n"
     ]
    }
   ],
   "source": [
    "df.info()"
   ]
  },
  {
   "cell_type": "code",
   "execution_count": 23,
   "id": "8d7e839d",
   "metadata": {},
   "outputs": [],
   "source": [
    "#changing datatype\n",
    "\n",
    "df['posEntryMode']=df['posEntryMode'].astype(object)\n",
    "df['posConditionCode']=df['posConditionCode'].astype(object)\n",
    "\n",
    "df['cardPresent']=df['cardPresent'].astype(object)\n",
    "df['expirationDateKeyInMatch']=df['expirationDateKeyInMatch'].astype(object)"
   ]
  },
  {
   "cell_type": "code",
   "execution_count": 24,
   "id": "495ba3b0",
   "metadata": {},
   "outputs": [
    {
     "data": {
      "text/plain": [
       "False    773946\n",
       "True      12417\n",
       "Name: isFraud, dtype: int64"
      ]
     },
     "execution_count": 24,
     "metadata": {},
     "output_type": "execute_result"
    }
   ],
   "source": [
    "df['isFraud'].value_counts()"
   ]
  },
  {
   "cell_type": "code",
   "execution_count": null,
   "id": "24d37ad1",
   "metadata": {},
   "outputs": [],
   "source": []
  },
  {
   "cell_type": "code",
   "execution_count": 25,
   "id": "bedeb86c",
   "metadata": {},
   "outputs": [],
   "source": [
    "df['isFraud'] = df['isFraud'].replace(True, 1)\n",
    "df['isFraud'] = df['isFraud'].replace(False, 0)"
   ]
  },
  {
   "cell_type": "code",
   "execution_count": null,
   "id": "52d1080a",
   "metadata": {},
   "outputs": [],
   "source": []
  },
  {
   "cell_type": "markdown",
   "id": "0daa72d2",
   "metadata": {},
   "source": [
    "The target variable isFraud has 0 and 1 values. Here\n",
    "0 for non-fraudulent transactions,\n",
    "1 for fraudulent transactions"
   ]
  },
  {
   "cell_type": "markdown",
   "id": "f85aa87b",
   "metadata": {},
   "source": [
    "### Data Visualization"
   ]
  },
  {
   "cell_type": "code",
   "execution_count": 26,
   "id": "530760c5",
   "metadata": {},
   "outputs": [
    {
     "data": {
      "image/png": "[encoded data removed]",
      "text/plain": [
       "<Figure size 576x432 with 1 Axes>"
      ]
     },
     "metadata": {
      "needs_background": "light"
     },
     "output_type": "display_data"
    }
   ],
   "source": [
    "plt.rcParams['figure.figsize'] = (8,6)\n",
    "sns.countplot(x = df['isFraud'], palette = 'pink')\n",
    "plt.title(\"Count of Fraudulent vs Non-Fraudulent Transactions\")\n",
    "plt.show()"
   ]
  },
  {
   "cell_type": "code",
   "execution_count": null,
   "id": "48a3b6b8",
   "metadata": {},
   "outputs": [],
   "source": []
  },
  {
   "cell_type": "code",
   "execution_count": 27,
   "id": "64a3c65e",
   "metadata": {},
   "outputs": [
    {
     "data": {
      "text/plain": [
       "<AxesSubplot:title={'center':'Distribution of Monetary Value Feature'}, xlabel='transactionAmount', ylabel='Count'>"
      ]
     },
     "execution_count": 27,
     "metadata": {},
     "output_type": "execute_result"
    },
    {
     "data": {
      "image/png": "[encoded data removed]",
      "text/plain": [
       "<Figure size 720x576 with 1 Axes>"
      ]
     },
     "metadata": {
      "needs_background": "light"
     },
     "output_type": "display_data"
    }
   ],
   "source": [
    "plt.figure(figsize=(10,8))\n",
    "plt.title('Distribution of Monetary Value Feature')\n",
    "sns.histplot(df.transactionAmount)"
   ]
  },
  {
   "cell_type": "code",
   "execution_count": 28,
   "id": "5252b5a1",
   "metadata": {},
   "outputs": [
    {
     "data": {
      "image/png": "[encoded data removed]",
      "text/plain": [
       "<Figure size 576x432 with 1 Axes>"
      ]
     },
     "metadata": {
      "needs_background": "light"
     },
     "output_type": "display_data"
    }
   ],
   "source": [
    "sns.boxplot(x = \"isFraud\", y = \"transactionAmount\", data = df)\n",
    "plt.ylim(0, 2500)\n",
    "plt.show()"
   ]
  },
  {
   "cell_type": "markdown",
   "id": "afbf770d",
   "metadata": {},
   "source": [
    "Observations:\n",
    "\n",
    "From above box plot we can easily infer that there are no fraud transactions occur above the transaction amount of 2000. All of the fraud transactions have transaction amount less than 2000. However, all transactions (genuine or not), have transaction amount less than 2000.\n",
    "\n",
    "*Feature 'isFraud' is the response variable and it takes value 1 in case of fraud and 0 otherwise.*"
   ]
  },
  {
   "cell_type": "code",
   "execution_count": 29,
   "id": "64d579c3",
   "metadata": {},
   "outputs": [
    {
     "name": "stderr",
     "output_type": "stream",
     "text": [
      "/opt/homebrew/Caskroom/miniforge/base/lib/python3.9/site-packages/seaborn/axisgrid.py:316: UserWarning: The `size` parameter has been renamed to `height`; please update your code.\n",
      "  warnings.warn(msg, UserWarning)\n",
      "/opt/homebrew/Caskroom/miniforge/base/lib/python3.9/site-packages/seaborn/distributions.py:2557: FutureWarning: `distplot` is a deprecated function and will be removed in a future version. Please adapt your code to use either `displot` (a figure-level function with similar flexibility) or `histplot` (an axes-level function for histograms).\n",
      "  warnings.warn(msg, FutureWarning)\n",
      "/opt/homebrew/Caskroom/miniforge/base/lib/python3.9/site-packages/seaborn/distributions.py:2557: FutureWarning: `distplot` is a deprecated function and will be removed in a future version. Please adapt your code to use either `displot` (a figure-level function with similar flexibility) or `histplot` (an axes-level function for histograms).\n",
      "  warnings.warn(msg, FutureWarning)\n"
     ]
    },
    {
     "data": {
      "image/png": "[encoded data removed]",
      "text/plain": [
       "<Figure size 764.125x720 with 1 Axes>"
      ]
     },
     "metadata": {
      "needs_background": "light"
     },
     "output_type": "display_data"
    }
   ],
   "source": [
    "sns.FacetGrid(df, hue=\"isFraud\", size=10).map(sns.distplot, \"transactionAmount\").add_legend()\n",
    "plt.show()"
   ]
  },
  {
   "cell_type": "markdown",
   "id": "af7472ae",
   "metadata": {},
   "source": [
    "*Feature 'isFraud' is the response variable and it takes value 1 in case of fraud and 0 otherwise.*"
   ]
  },
  {
   "cell_type": "code",
   "execution_count": null,
   "id": "095636a9",
   "metadata": {},
   "outputs": [],
   "source": []
  },
  {
   "cell_type": "code",
   "execution_count": 30,
   "id": "0d444030",
   "metadata": {},
   "outputs": [],
   "source": [
    "df_feature = df.drop(columns='isFraud')\n",
    "\n",
    "df_target = df[['isFraud']]\n",
    "\n",
    "num_data = df_feature.select_dtypes(include=np.number)\n",
    "\n",
    "cat_data = df_feature.select_dtypes(include=object)"
   ]
  },
  {
   "cell_type": "code",
   "execution_count": 31,
   "id": "c36ec985",
   "metadata": {},
   "outputs": [
    {
     "data": {
      "text/html": [
       "<div>\n",
       "<style scoped>\n",
       "    .dataframe tbody tr th:only-of-type {\n",
       "        vertical-align: middle;\n",
       "    }\n",
       "\n",
       "    .dataframe tbody tr th {\n",
       "        vertical-align: top;\n",
       "    }\n",
       "\n",
       "    .dataframe thead th {\n",
       "        text-align: right;\n",
       "    }\n",
       "</style>\n",
       "<table border=\"1\" class=\"dataframe\">\n",
       "  <thead>\n",
       "    <tr style=\"text-align: right;\">\n",
       "      <th></th>\n",
       "      <th>creditLimit</th>\n",
       "      <th>availableMoney</th>\n",
       "      <th>transactionAmount</th>\n",
       "      <th>currentBalance</th>\n",
       "    </tr>\n",
       "  </thead>\n",
       "  <tbody>\n",
       "    <tr>\n",
       "      <th>0</th>\n",
       "      <td>5000.0</td>\n",
       "      <td>5000.0</td>\n",
       "      <td>98.55</td>\n",
       "      <td>0.0</td>\n",
       "    </tr>\n",
       "    <tr>\n",
       "      <th>1</th>\n",
       "      <td>5000.0</td>\n",
       "      <td>5000.0</td>\n",
       "      <td>74.51</td>\n",
       "      <td>0.0</td>\n",
       "    </tr>\n",
       "    <tr>\n",
       "      <th>2</th>\n",
       "      <td>5000.0</td>\n",
       "      <td>5000.0</td>\n",
       "      <td>7.47</td>\n",
       "      <td>0.0</td>\n",
       "    </tr>\n",
       "    <tr>\n",
       "      <th>3</th>\n",
       "      <td>5000.0</td>\n",
       "      <td>5000.0</td>\n",
       "      <td>7.47</td>\n",
       "      <td>0.0</td>\n",
       "    </tr>\n",
       "    <tr>\n",
       "      <th>4</th>\n",
       "      <td>5000.0</td>\n",
       "      <td>5000.0</td>\n",
       "      <td>71.18</td>\n",
       "      <td>0.0</td>\n",
       "    </tr>\n",
       "  </tbody>\n",
       "</table>\n",
       "</div>"
      ],
      "text/plain": [
       "   creditLimit  availableMoney  transactionAmount  currentBalance\n",
       "0       5000.0          5000.0              98.55             0.0\n",
       "1       5000.0          5000.0              74.51             0.0\n",
       "2       5000.0          5000.0               7.47             0.0\n",
       "3       5000.0          5000.0               7.47             0.0\n",
       "4       5000.0          5000.0              71.18             0.0"
      ]
     },
     "execution_count": 31,
     "metadata": {},
     "output_type": "execute_result"
    }
   ],
   "source": [
    "num_data.head()"
   ]
  },
  {
   "cell_type": "code",
   "execution_count": 32,
   "id": "066571c0",
   "metadata": {},
   "outputs": [
    {
     "data": {
      "text/html": [
       "<div>\n",
       "<style scoped>\n",
       "    .dataframe tbody tr th:only-of-type {\n",
       "        vertical-align: middle;\n",
       "    }\n",
       "\n",
       "    .dataframe tbody tr th {\n",
       "        vertical-align: top;\n",
       "    }\n",
       "\n",
       "    .dataframe thead th {\n",
       "        text-align: right;\n",
       "    }\n",
       "</style>\n",
       "<table border=\"1\" class=\"dataframe\">\n",
       "  <thead>\n",
       "    <tr style=\"text-align: right;\">\n",
       "      <th></th>\n",
       "      <th>acqCountry</th>\n",
       "      <th>merchantCountryCode</th>\n",
       "      <th>posEntryMode</th>\n",
       "      <th>posConditionCode</th>\n",
       "      <th>merchantCategoryCode</th>\n",
       "      <th>transactionType</th>\n",
       "      <th>cardPresent</th>\n",
       "      <th>expirationDateKeyInMatch</th>\n",
       "      <th>CorrectCVV</th>\n",
       "    </tr>\n",
       "  </thead>\n",
       "  <tbody>\n",
       "    <tr>\n",
       "      <th>0</th>\n",
       "      <td>US</td>\n",
       "      <td>US</td>\n",
       "      <td>2.0</td>\n",
       "      <td>1.0</td>\n",
       "      <td>rideshare</td>\n",
       "      <td>PURCHASE</td>\n",
       "      <td>False</td>\n",
       "      <td>False</td>\n",
       "      <td>Correct</td>\n",
       "    </tr>\n",
       "    <tr>\n",
       "      <th>1</th>\n",
       "      <td>US</td>\n",
       "      <td>US</td>\n",
       "      <td>9.0</td>\n",
       "      <td>1.0</td>\n",
       "      <td>entertainment</td>\n",
       "      <td>PURCHASE</td>\n",
       "      <td>True</td>\n",
       "      <td>False</td>\n",
       "      <td>Correct</td>\n",
       "    </tr>\n",
       "    <tr>\n",
       "      <th>2</th>\n",
       "      <td>US</td>\n",
       "      <td>US</td>\n",
       "      <td>9.0</td>\n",
       "      <td>1.0</td>\n",
       "      <td>mobileapps</td>\n",
       "      <td>PURCHASE</td>\n",
       "      <td>False</td>\n",
       "      <td>False</td>\n",
       "      <td>Correct</td>\n",
       "    </tr>\n",
       "    <tr>\n",
       "      <th>3</th>\n",
       "      <td>US</td>\n",
       "      <td>US</td>\n",
       "      <td>9.0</td>\n",
       "      <td>1.0</td>\n",
       "      <td>mobileapps</td>\n",
       "      <td>PURCHASE</td>\n",
       "      <td>False</td>\n",
       "      <td>False</td>\n",
       "      <td>Correct</td>\n",
       "    </tr>\n",
       "    <tr>\n",
       "      <th>4</th>\n",
       "      <td>US</td>\n",
       "      <td>US</td>\n",
       "      <td>2.0</td>\n",
       "      <td>1.0</td>\n",
       "      <td>fastfood</td>\n",
       "      <td>PURCHASE</td>\n",
       "      <td>True</td>\n",
       "      <td>False</td>\n",
       "      <td>Correct</td>\n",
       "    </tr>\n",
       "  </tbody>\n",
       "</table>\n",
       "</div>"
      ],
      "text/plain": [
       "  acqCountry merchantCountryCode posEntryMode posConditionCode  \\\n",
       "0         US                  US          2.0              1.0   \n",
       "1         US                  US          9.0              1.0   \n",
       "2         US                  US          9.0              1.0   \n",
       "3         US                  US          9.0              1.0   \n",
       "4         US                  US          2.0              1.0   \n",
       "\n",
       "  merchantCategoryCode transactionType cardPresent expirationDateKeyInMatch  \\\n",
       "0            rideshare        PURCHASE       False                    False   \n",
       "1        entertainment        PURCHASE        True                    False   \n",
       "2           mobileapps        PURCHASE       False                    False   \n",
       "3           mobileapps        PURCHASE       False                    False   \n",
       "4             fastfood        PURCHASE        True                    False   \n",
       "\n",
       "  CorrectCVV  \n",
       "0    Correct  \n",
       "1    Correct  \n",
       "2    Correct  \n",
       "3    Correct  \n",
       "4    Correct  "
      ]
     },
     "execution_count": 32,
     "metadata": {},
     "output_type": "execute_result"
    }
   ],
   "source": [
    "cat_data.head()"
   ]
  },
  {
   "cell_type": "code",
   "execution_count": null,
   "id": "15eca4c2",
   "metadata": {},
   "outputs": [],
   "source": []
  },
  {
   "cell_type": "code",
   "execution_count": 33,
   "id": "34d22397",
   "metadata": {},
   "outputs": [],
   "source": [
    "oe = OrdinalEncoder()\n",
    "\n",
    "cat_oe = oe.fit_transform(cat_data)\n",
    "\n",
    "cat_df = pd.DataFrame(cat_oe,columns=cat_data.columns)"
   ]
  },
  {
   "cell_type": "code",
   "execution_count": 34,
   "id": "d7886c1c",
   "metadata": {},
   "outputs": [
    {
     "data": {
      "text/html": [
       "<div>\n",
       "<style scoped>\n",
       "    .dataframe tbody tr th:only-of-type {\n",
       "        vertical-align: middle;\n",
       "    }\n",
       "\n",
       "    .dataframe tbody tr th {\n",
       "        vertical-align: top;\n",
       "    }\n",
       "\n",
       "    .dataframe thead th {\n",
       "        text-align: right;\n",
       "    }\n",
       "</style>\n",
       "<table border=\"1\" class=\"dataframe\">\n",
       "  <thead>\n",
       "    <tr style=\"text-align: right;\">\n",
       "      <th></th>\n",
       "      <th>acqCountry</th>\n",
       "      <th>merchantCountryCode</th>\n",
       "      <th>posEntryMode</th>\n",
       "      <th>posConditionCode</th>\n",
       "      <th>merchantCategoryCode</th>\n",
       "      <th>transactionType</th>\n",
       "      <th>cardPresent</th>\n",
       "      <th>expirationDateKeyInMatch</th>\n",
       "      <th>CorrectCVV</th>\n",
       "    </tr>\n",
       "  </thead>\n",
       "  <tbody>\n",
       "    <tr>\n",
       "      <th>0</th>\n",
       "      <td>3.0</td>\n",
       "      <td>3.0</td>\n",
       "      <td>0.0</td>\n",
       "      <td>0.0</td>\n",
       "      <td>17.0</td>\n",
       "      <td>1.0</td>\n",
       "      <td>0.0</td>\n",
       "      <td>0.0</td>\n",
       "      <td>0.0</td>\n",
       "    </tr>\n",
       "    <tr>\n",
       "      <th>1</th>\n",
       "      <td>3.0</td>\n",
       "      <td>3.0</td>\n",
       "      <td>2.0</td>\n",
       "      <td>0.0</td>\n",
       "      <td>3.0</td>\n",
       "      <td>1.0</td>\n",
       "      <td>1.0</td>\n",
       "      <td>0.0</td>\n",
       "      <td>0.0</td>\n",
       "    </tr>\n",
       "    <tr>\n",
       "      <th>2</th>\n",
       "      <td>3.0</td>\n",
       "      <td>3.0</td>\n",
       "      <td>2.0</td>\n",
       "      <td>0.0</td>\n",
       "      <td>12.0</td>\n",
       "      <td>1.0</td>\n",
       "      <td>0.0</td>\n",
       "      <td>0.0</td>\n",
       "      <td>0.0</td>\n",
       "    </tr>\n",
       "    <tr>\n",
       "      <th>3</th>\n",
       "      <td>3.0</td>\n",
       "      <td>3.0</td>\n",
       "      <td>2.0</td>\n",
       "      <td>0.0</td>\n",
       "      <td>12.0</td>\n",
       "      <td>1.0</td>\n",
       "      <td>0.0</td>\n",
       "      <td>0.0</td>\n",
       "      <td>0.0</td>\n",
       "    </tr>\n",
       "    <tr>\n",
       "      <th>4</th>\n",
       "      <td>3.0</td>\n",
       "      <td>3.0</td>\n",
       "      <td>0.0</td>\n",
       "      <td>0.0</td>\n",
       "      <td>4.0</td>\n",
       "      <td>1.0</td>\n",
       "      <td>1.0</td>\n",
       "      <td>0.0</td>\n",
       "      <td>0.0</td>\n",
       "    </tr>\n",
       "    <tr>\n",
       "      <th>...</th>\n",
       "      <td>...</td>\n",
       "      <td>...</td>\n",
       "      <td>...</td>\n",
       "      <td>...</td>\n",
       "      <td>...</td>\n",
       "      <td>...</td>\n",
       "      <td>...</td>\n",
       "      <td>...</td>\n",
       "      <td>...</td>\n",
       "    </tr>\n",
       "    <tr>\n",
       "      <th>786358</th>\n",
       "      <td>3.0</td>\n",
       "      <td>3.0</td>\n",
       "      <td>4.0</td>\n",
       "      <td>0.0</td>\n",
       "      <td>17.0</td>\n",
       "      <td>1.0</td>\n",
       "      <td>0.0</td>\n",
       "      <td>0.0</td>\n",
       "      <td>0.0</td>\n",
       "    </tr>\n",
       "    <tr>\n",
       "      <th>786359</th>\n",
       "      <td>3.0</td>\n",
       "      <td>3.0</td>\n",
       "      <td>2.0</td>\n",
       "      <td>0.0</td>\n",
       "      <td>15.0</td>\n",
       "      <td>1.0</td>\n",
       "      <td>0.0</td>\n",
       "      <td>0.0</td>\n",
       "      <td>0.0</td>\n",
       "    </tr>\n",
       "    <tr>\n",
       "      <th>786360</th>\n",
       "      <td>3.0</td>\n",
       "      <td>3.0</td>\n",
       "      <td>0.0</td>\n",
       "      <td>0.0</td>\n",
       "      <td>17.0</td>\n",
       "      <td>1.0</td>\n",
       "      <td>0.0</td>\n",
       "      <td>0.0</td>\n",
       "      <td>0.0</td>\n",
       "    </tr>\n",
       "    <tr>\n",
       "      <th>786361</th>\n",
       "      <td>3.0</td>\n",
       "      <td>3.0</td>\n",
       "      <td>2.0</td>\n",
       "      <td>2.0</td>\n",
       "      <td>14.0</td>\n",
       "      <td>1.0</td>\n",
       "      <td>0.0</td>\n",
       "      <td>0.0</td>\n",
       "      <td>0.0</td>\n",
       "    </tr>\n",
       "    <tr>\n",
       "      <th>786362</th>\n",
       "      <td>3.0</td>\n",
       "      <td>3.0</td>\n",
       "      <td>1.0</td>\n",
       "      <td>0.0</td>\n",
       "      <td>17.0</td>\n",
       "      <td>1.0</td>\n",
       "      <td>0.0</td>\n",
       "      <td>0.0</td>\n",
       "      <td>0.0</td>\n",
       "    </tr>\n",
       "  </tbody>\n",
       "</table>\n",
       "<p>786363 rows × 9 columns</p>\n",
       "</div>"
      ],
      "text/plain": [
       "        acqCountry  merchantCountryCode  posEntryMode  posConditionCode  \\\n",
       "0              3.0                  3.0           0.0               0.0   \n",
       "1              3.0                  3.0           2.0               0.0   \n",
       "2              3.0                  3.0           2.0               0.0   \n",
       "3              3.0                  3.0           2.0               0.0   \n",
       "4              3.0                  3.0           0.0               0.0   \n",
       "...            ...                  ...           ...               ...   \n",
       "786358         3.0                  3.0           4.0               0.0   \n",
       "786359         3.0                  3.0           2.0               0.0   \n",
       "786360         3.0                  3.0           0.0               0.0   \n",
       "786361         3.0                  3.0           2.0               2.0   \n",
       "786362         3.0                  3.0           1.0               0.0   \n",
       "\n",
       "        merchantCategoryCode  transactionType  cardPresent  \\\n",
       "0                       17.0              1.0          0.0   \n",
       "1                        3.0              1.0          1.0   \n",
       "2                       12.0              1.0          0.0   \n",
       "3                       12.0              1.0          0.0   \n",
       "4                        4.0              1.0          1.0   \n",
       "...                      ...              ...          ...   \n",
       "786358                  17.0              1.0          0.0   \n",
       "786359                  15.0              1.0          0.0   \n",
       "786360                  17.0              1.0          0.0   \n",
       "786361                  14.0              1.0          0.0   \n",
       "786362                  17.0              1.0          0.0   \n",
       "\n",
       "        expirationDateKeyInMatch  CorrectCVV  \n",
       "0                            0.0         0.0  \n",
       "1                            0.0         0.0  \n",
       "2                            0.0         0.0  \n",
       "3                            0.0         0.0  \n",
       "4                            0.0         0.0  \n",
       "...                          ...         ...  \n",
       "786358                       0.0         0.0  \n",
       "786359                       0.0         0.0  \n",
       "786360                       0.0         0.0  \n",
       "786361                       0.0         0.0  \n",
       "786362                       0.0         0.0  \n",
       "\n",
       "[786363 rows x 9 columns]"
      ]
     },
     "execution_count": 34,
     "metadata": {},
     "output_type": "execute_result"
    }
   ],
   "source": [
    "cat_df"
   ]
  },
  {
   "cell_type": "code",
   "execution_count": 35,
   "id": "a3aa1dbe",
   "metadata": {},
   "outputs": [],
   "source": [
    "#for numerical data\n",
    "\n",
    "sc = StandardScaler()\n",
    "\n",
    "num_sc = sc.fit_transform(num_data)\n",
    "\n",
    "num_df = pd.DataFrame(num_sc,columns=num_data.columns)"
   ]
  },
  {
   "cell_type": "code",
   "execution_count": 36,
   "id": "3cf49a98",
   "metadata": {},
   "outputs": [
    {
     "data": {
      "text/html": [
       "<div>\n",
       "<style scoped>\n",
       "    .dataframe tbody tr th:only-of-type {\n",
       "        vertical-align: middle;\n",
       "    }\n",
       "\n",
       "    .dataframe tbody tr th {\n",
       "        vertical-align: top;\n",
       "    }\n",
       "\n",
       "    .dataframe thead th {\n",
       "        text-align: right;\n",
       "    }\n",
       "</style>\n",
       "<table border=\"1\" class=\"dataframe\">\n",
       "  <thead>\n",
       "    <tr style=\"text-align: right;\">\n",
       "      <th></th>\n",
       "      <th>creditLimit</th>\n",
       "      <th>availableMoney</th>\n",
       "      <th>transactionAmount</th>\n",
       "      <th>currentBalance</th>\n",
       "    </tr>\n",
       "  </thead>\n",
       "  <tbody>\n",
       "    <tr>\n",
       "      <th>0</th>\n",
       "      <td>-0.494962</td>\n",
       "      <td>-0.140835</td>\n",
       "      <td>-0.260184</td>\n",
       "      <td>-0.698224</td>\n",
       "    </tr>\n",
       "    <tr>\n",
       "      <th>1</th>\n",
       "      <td>-0.494962</td>\n",
       "      <td>-0.140835</td>\n",
       "      <td>-0.422918</td>\n",
       "      <td>-0.698224</td>\n",
       "    </tr>\n",
       "    <tr>\n",
       "      <th>2</th>\n",
       "      <td>-0.494962</td>\n",
       "      <td>-0.140835</td>\n",
       "      <td>-0.876733</td>\n",
       "      <td>-0.698224</td>\n",
       "    </tr>\n",
       "    <tr>\n",
       "      <th>3</th>\n",
       "      <td>-0.494962</td>\n",
       "      <td>-0.140835</td>\n",
       "      <td>-0.876733</td>\n",
       "      <td>-0.698224</td>\n",
       "    </tr>\n",
       "    <tr>\n",
       "      <th>4</th>\n",
       "      <td>-0.494962</td>\n",
       "      <td>-0.140835</td>\n",
       "      <td>-0.445460</td>\n",
       "      <td>-0.698224</td>\n",
       "    </tr>\n",
       "    <tr>\n",
       "      <th>...</th>\n",
       "      <td>...</td>\n",
       "      <td>...</td>\n",
       "      <td>...</td>\n",
       "      <td>...</td>\n",
       "    </tr>\n",
       "    <tr>\n",
       "      <th>786358</th>\n",
       "      <td>3.372290</td>\n",
       "      <td>4.802984</td>\n",
       "      <td>-0.115524</td>\n",
       "      <td>-0.528646</td>\n",
       "    </tr>\n",
       "    <tr>\n",
       "      <th>786359</th>\n",
       "      <td>3.372290</td>\n",
       "      <td>4.789480</td>\n",
       "      <td>-0.799427</td>\n",
       "      <td>-0.510075</td>\n",
       "    </tr>\n",
       "    <tr>\n",
       "      <th>786360</th>\n",
       "      <td>3.372290</td>\n",
       "      <td>4.787353</td>\n",
       "      <td>-0.592693</td>\n",
       "      <td>-0.507150</td>\n",
       "    </tr>\n",
       "    <tr>\n",
       "      <th>786361</th>\n",
       "      <td>3.372290</td>\n",
       "      <td>4.781787</td>\n",
       "      <td>-0.589579</td>\n",
       "      <td>-0.499495</td>\n",
       "    </tr>\n",
       "    <tr>\n",
       "      <th>786362</th>\n",
       "      <td>3.372290</td>\n",
       "      <td>4.776170</td>\n",
       "      <td>-0.438691</td>\n",
       "      <td>-0.491769</td>\n",
       "    </tr>\n",
       "  </tbody>\n",
       "</table>\n",
       "<p>786363 rows × 4 columns</p>\n",
       "</div>"
      ],
      "text/plain": [
       "        creditLimit  availableMoney  transactionAmount  currentBalance\n",
       "0         -0.494962       -0.140835          -0.260184       -0.698224\n",
       "1         -0.494962       -0.140835          -0.422918       -0.698224\n",
       "2         -0.494962       -0.140835          -0.876733       -0.698224\n",
       "3         -0.494962       -0.140835          -0.876733       -0.698224\n",
       "4         -0.494962       -0.140835          -0.445460       -0.698224\n",
       "...             ...             ...                ...             ...\n",
       "786358     3.372290        4.802984          -0.115524       -0.528646\n",
       "786359     3.372290        4.789480          -0.799427       -0.510075\n",
       "786360     3.372290        4.787353          -0.592693       -0.507150\n",
       "786361     3.372290        4.781787          -0.589579       -0.499495\n",
       "786362     3.372290        4.776170          -0.438691       -0.491769\n",
       "\n",
       "[786363 rows x 4 columns]"
      ]
     },
     "execution_count": 36,
     "metadata": {},
     "output_type": "execute_result"
    }
   ],
   "source": [
    "num_df"
   ]
  },
  {
   "cell_type": "code",
   "execution_count": 37,
   "id": "cd67135a",
   "metadata": {},
   "outputs": [],
   "source": [
    "Data = pd.concat([num_df,cat_df],axis=1)"
   ]
  },
  {
   "cell_type": "code",
   "execution_count": 38,
   "id": "320457b0",
   "metadata": {},
   "outputs": [
    {
     "data": {
      "text/html": [
       "<div>\n",
       "<style scoped>\n",
       "    .dataframe tbody tr th:only-of-type {\n",
       "        vertical-align: middle;\n",
       "    }\n",
       "\n",
       "    .dataframe tbody tr th {\n",
       "        vertical-align: top;\n",
       "    }\n",
       "\n",
       "    .dataframe thead th {\n",
       "        text-align: right;\n",
       "    }\n",
       "</style>\n",
       "<table border=\"1\" class=\"dataframe\">\n",
       "  <thead>\n",
       "    <tr style=\"text-align: right;\">\n",
       "      <th></th>\n",
       "      <th>creditLimit</th>\n",
       "      <th>availableMoney</th>\n",
       "      <th>transactionAmount</th>\n",
       "      <th>currentBalance</th>\n",
       "      <th>acqCountry</th>\n",
       "      <th>merchantCountryCode</th>\n",
       "      <th>posEntryMode</th>\n",
       "      <th>posConditionCode</th>\n",
       "      <th>merchantCategoryCode</th>\n",
       "      <th>transactionType</th>\n",
       "      <th>cardPresent</th>\n",
       "      <th>expirationDateKeyInMatch</th>\n",
       "      <th>CorrectCVV</th>\n",
       "    </tr>\n",
       "  </thead>\n",
       "  <tbody>\n",
       "    <tr>\n",
       "      <th>0</th>\n",
       "      <td>-0.494962</td>\n",
       "      <td>-0.140835</td>\n",
       "      <td>-0.260184</td>\n",
       "      <td>-0.698224</td>\n",
       "      <td>3.0</td>\n",
       "      <td>3.0</td>\n",
       "      <td>0.0</td>\n",
       "      <td>0.0</td>\n",
       "      <td>17.0</td>\n",
       "      <td>1.0</td>\n",
       "      <td>0.0</td>\n",
       "      <td>0.0</td>\n",
       "      <td>0.0</td>\n",
       "    </tr>\n",
       "    <tr>\n",
       "      <th>1</th>\n",
       "      <td>-0.494962</td>\n",
       "      <td>-0.140835</td>\n",
       "      <td>-0.422918</td>\n",
       "      <td>-0.698224</td>\n",
       "      <td>3.0</td>\n",
       "      <td>3.0</td>\n",
       "      <td>2.0</td>\n",
       "      <td>0.0</td>\n",
       "      <td>3.0</td>\n",
       "      <td>1.0</td>\n",
       "      <td>1.0</td>\n",
       "      <td>0.0</td>\n",
       "      <td>0.0</td>\n",
       "    </tr>\n",
       "    <tr>\n",
       "      <th>2</th>\n",
       "      <td>-0.494962</td>\n",
       "      <td>-0.140835</td>\n",
       "      <td>-0.876733</td>\n",
       "      <td>-0.698224</td>\n",
       "      <td>3.0</td>\n",
       "      <td>3.0</td>\n",
       "      <td>2.0</td>\n",
       "      <td>0.0</td>\n",
       "      <td>12.0</td>\n",
       "      <td>1.0</td>\n",
       "      <td>0.0</td>\n",
       "      <td>0.0</td>\n",
       "      <td>0.0</td>\n",
       "    </tr>\n",
       "    <tr>\n",
       "      <th>3</th>\n",
       "      <td>-0.494962</td>\n",
       "      <td>-0.140835</td>\n",
       "      <td>-0.876733</td>\n",
       "      <td>-0.698224</td>\n",
       "      <td>3.0</td>\n",
       "      <td>3.0</td>\n",
       "      <td>2.0</td>\n",
       "      <td>0.0</td>\n",
       "      <td>12.0</td>\n",
       "      <td>1.0</td>\n",
       "      <td>0.0</td>\n",
       "      <td>0.0</td>\n",
       "      <td>0.0</td>\n",
       "    </tr>\n",
       "    <tr>\n",
       "      <th>4</th>\n",
       "      <td>-0.494962</td>\n",
       "      <td>-0.140835</td>\n",
       "      <td>-0.445460</td>\n",
       "      <td>-0.698224</td>\n",
       "      <td>3.0</td>\n",
       "      <td>3.0</td>\n",
       "      <td>0.0</td>\n",
       "      <td>0.0</td>\n",
       "      <td>4.0</td>\n",
       "      <td>1.0</td>\n",
       "      <td>1.0</td>\n",
       "      <td>0.0</td>\n",
       "      <td>0.0</td>\n",
       "    </tr>\n",
       "  </tbody>\n",
       "</table>\n",
       "</div>"
      ],
      "text/plain": [
       "   creditLimit  availableMoney  transactionAmount  currentBalance  acqCountry  \\\n",
       "0    -0.494962       -0.140835          -0.260184       -0.698224         3.0   \n",
       "1    -0.494962       -0.140835          -0.422918       -0.698224         3.0   \n",
       "2    -0.494962       -0.140835          -0.876733       -0.698224         3.0   \n",
       "3    -0.494962       -0.140835          -0.876733       -0.698224         3.0   \n",
       "4    -0.494962       -0.140835          -0.445460       -0.698224         3.0   \n",
       "\n",
       "   merchantCountryCode  posEntryMode  posConditionCode  merchantCategoryCode  \\\n",
       "0                  3.0           0.0               0.0                  17.0   \n",
       "1                  3.0           2.0               0.0                   3.0   \n",
       "2                  3.0           2.0               0.0                  12.0   \n",
       "3                  3.0           2.0               0.0                  12.0   \n",
       "4                  3.0           0.0               0.0                   4.0   \n",
       "\n",
       "   transactionType  cardPresent  expirationDateKeyInMatch  CorrectCVV  \n",
       "0              1.0          0.0                       0.0         0.0  \n",
       "1              1.0          1.0                       0.0         0.0  \n",
       "2              1.0          0.0                       0.0         0.0  \n",
       "3              1.0          0.0                       0.0         0.0  \n",
       "4              1.0          1.0                       0.0         0.0  "
      ]
     },
     "execution_count": 38,
     "metadata": {},
     "output_type": "execute_result"
    }
   ],
   "source": [
    "Data.head()"
   ]
  },
  {
   "cell_type": "code",
   "execution_count": null,
   "id": "b158b1bc",
   "metadata": {},
   "outputs": [],
   "source": []
  },
  {
   "cell_type": "markdown",
   "id": "dc8762a4",
   "metadata": {},
   "source": [
    "## Train and Test Data Split"
   ]
  },
  {
   "cell_type": "code",
   "execution_count": 39,
   "id": "a64e42b1",
   "metadata": {},
   "outputs": [],
   "source": [
    "X = Data.copy()\n",
    "y = df_target.copy()\n"
   ]
  },
  {
   "cell_type": "code",
   "execution_count": 40,
   "id": "25090893",
   "metadata": {},
   "outputs": [],
   "source": [
    "X_train, X_test, y_train, y_test = train_test_split(X, y, test_size=0.2, random_state=0)"
   ]
  },
  {
   "cell_type": "code",
   "execution_count": 41,
   "id": "5001633b",
   "metadata": {},
   "outputs": [
    {
     "name": "stdout",
     "output_type": "stream",
     "text": [
      "(629090, 13)\n",
      "(157273, 13)\n",
      "(629090, 1)\n",
      "(157273, 1)\n"
     ]
    }
   ],
   "source": [
    "print(X_train.shape)\n",
    "print(X_test.shape)\n",
    "print(y_train.shape)\n",
    "print(y_test.shape)"
   ]
  },
  {
   "cell_type": "code",
   "execution_count": 42,
   "id": "bef06c52",
   "metadata": {},
   "outputs": [
    {
     "data": {
      "text/html": [
       "<div>\n",
       "<style scoped>\n",
       "    .dataframe tbody tr th:only-of-type {\n",
       "        vertical-align: middle;\n",
       "    }\n",
       "\n",
       "    .dataframe tbody tr th {\n",
       "        vertical-align: top;\n",
       "    }\n",
       "\n",
       "    .dataframe thead th {\n",
       "        text-align: right;\n",
       "    }\n",
       "</style>\n",
       "<table border=\"1\" class=\"dataframe\">\n",
       "  <thead>\n",
       "    <tr style=\"text-align: right;\">\n",
       "      <th></th>\n",
       "      <th>creditLimit</th>\n",
       "      <th>availableMoney</th>\n",
       "      <th>transactionAmount</th>\n",
       "      <th>currentBalance</th>\n",
       "      <th>acqCountry</th>\n",
       "      <th>merchantCountryCode</th>\n",
       "      <th>posEntryMode</th>\n",
       "      <th>posConditionCode</th>\n",
       "      <th>merchantCategoryCode</th>\n",
       "      <th>transactionType</th>\n",
       "      <th>cardPresent</th>\n",
       "      <th>expirationDateKeyInMatch</th>\n",
       "      <th>CorrectCVV</th>\n",
       "    </tr>\n",
       "  </thead>\n",
       "  <tbody>\n",
       "    <tr>\n",
       "      <th>323244</th>\n",
       "      <td>0.364427</td>\n",
       "      <td>-0.256567</td>\n",
       "      <td>-0.736879</td>\n",
       "      <td>1.009541</td>\n",
       "      <td>3.0</td>\n",
       "      <td>3.0</td>\n",
       "      <td>2.0</td>\n",
       "      <td>0.0</td>\n",
       "      <td>5.0</td>\n",
       "      <td>1.0</td>\n",
       "      <td>1.0</td>\n",
       "      <td>0.0</td>\n",
       "      <td>0.0</td>\n",
       "    </tr>\n",
       "    <tr>\n",
       "      <th>722095</th>\n",
       "      <td>-0.903172</td>\n",
       "      <td>-0.687814</td>\n",
       "      <td>-0.836388</td>\n",
       "      <td>-0.681561</td>\n",
       "      <td>3.0</td>\n",
       "      <td>3.0</td>\n",
       "      <td>2.0</td>\n",
       "      <td>0.0</td>\n",
       "      <td>3.0</td>\n",
       "      <td>1.0</td>\n",
       "      <td>1.0</td>\n",
       "      <td>0.0</td>\n",
       "      <td>0.0</td>\n",
       "    </tr>\n",
       "    <tr>\n",
       "      <th>123059</th>\n",
       "      <td>-0.838718</td>\n",
       "      <td>-0.631247</td>\n",
       "      <td>-0.920057</td>\n",
       "      <td>-0.643212</td>\n",
       "      <td>3.0</td>\n",
       "      <td>3.0</td>\n",
       "      <td>1.0</td>\n",
       "      <td>1.0</td>\n",
       "      <td>14.0</td>\n",
       "      <td>1.0</td>\n",
       "      <td>0.0</td>\n",
       "      <td>0.0</td>\n",
       "      <td>1.0</td>\n",
       "    </tr>\n",
       "    <tr>\n",
       "      <th>656140</th>\n",
       "      <td>-0.494962</td>\n",
       "      <td>-0.362807</td>\n",
       "      <td>3.386716</td>\n",
       "      <td>-0.392951</td>\n",
       "      <td>3.0</td>\n",
       "      <td>3.0</td>\n",
       "      <td>1.0</td>\n",
       "      <td>0.0</td>\n",
       "      <td>4.0</td>\n",
       "      <td>1.0</td>\n",
       "      <td>1.0</td>\n",
       "      <td>0.0</td>\n",
       "      <td>0.0</td>\n",
       "    </tr>\n",
       "    <tr>\n",
       "      <th>720009</th>\n",
       "      <td>-0.709810</td>\n",
       "      <td>-0.644445</td>\n",
       "      <td>-0.878155</td>\n",
       "      <td>-0.392770</td>\n",
       "      <td>3.0</td>\n",
       "      <td>3.0</td>\n",
       "      <td>1.0</td>\n",
       "      <td>0.0</td>\n",
       "      <td>10.0</td>\n",
       "      <td>1.0</td>\n",
       "      <td>1.0</td>\n",
       "      <td>0.0</td>\n",
       "      <td>0.0</td>\n",
       "    </tr>\n",
       "    <tr>\n",
       "      <th>...</th>\n",
       "      <td>...</td>\n",
       "      <td>...</td>\n",
       "      <td>...</td>\n",
       "      <td>...</td>\n",
       "      <td>...</td>\n",
       "      <td>...</td>\n",
       "      <td>...</td>\n",
       "      <td>...</td>\n",
       "      <td>...</td>\n",
       "      <td>...</td>\n",
       "      <td>...</td>\n",
       "      <td>...</td>\n",
       "      <td>...</td>\n",
       "    </tr>\n",
       "    <tr>\n",
       "      <th>359783</th>\n",
       "      <td>-0.065268</td>\n",
       "      <td>-0.197864</td>\n",
       "      <td>-0.583012</td>\n",
       "      <td>0.154507</td>\n",
       "      <td>3.0</td>\n",
       "      <td>3.0</td>\n",
       "      <td>3.0</td>\n",
       "      <td>0.0</td>\n",
       "      <td>4.0</td>\n",
       "      <td>1.0</td>\n",
       "      <td>1.0</td>\n",
       "      <td>0.0</td>\n",
       "      <td>0.0</td>\n",
       "    </tr>\n",
       "    <tr>\n",
       "      <th>152315</th>\n",
       "      <td>3.372290</td>\n",
       "      <td>3.684541</td>\n",
       "      <td>-0.053855</td>\n",
       "      <td>1.009524</td>\n",
       "      <td>3.0</td>\n",
       "      <td>3.0</td>\n",
       "      <td>1.0</td>\n",
       "      <td>0.0</td>\n",
       "      <td>16.0</td>\n",
       "      <td>1.0</td>\n",
       "      <td>1.0</td>\n",
       "      <td>0.0</td>\n",
       "      <td>0.0</td>\n",
       "    </tr>\n",
       "    <tr>\n",
       "      <th>117952</th>\n",
       "      <td>-0.709810</td>\n",
       "      <td>-0.604847</td>\n",
       "      <td>-0.927300</td>\n",
       "      <td>-0.447228</td>\n",
       "      <td>3.0</td>\n",
       "      <td>3.0</td>\n",
       "      <td>0.0</td>\n",
       "      <td>0.0</td>\n",
       "      <td>3.0</td>\n",
       "      <td>0.0</td>\n",
       "      <td>0.0</td>\n",
       "      <td>0.0</td>\n",
       "      <td>0.0</td>\n",
       "    </tr>\n",
       "    <tr>\n",
       "      <th>435829</th>\n",
       "      <td>0.794122</td>\n",
       "      <td>0.194054</td>\n",
       "      <td>-0.371201</td>\n",
       "      <td>1.164112</td>\n",
       "      <td>3.0</td>\n",
       "      <td>3.0</td>\n",
       "      <td>0.0</td>\n",
       "      <td>0.0</td>\n",
       "      <td>18.0</td>\n",
       "      <td>1.0</td>\n",
       "      <td>0.0</td>\n",
       "      <td>0.0</td>\n",
       "      <td>0.0</td>\n",
       "    </tr>\n",
       "    <tr>\n",
       "      <th>305711</th>\n",
       "      <td>0.364427</td>\n",
       "      <td>-0.080218</td>\n",
       "      <td>0.023450</td>\n",
       "      <td>0.767012</td>\n",
       "      <td>3.0</td>\n",
       "      <td>3.0</td>\n",
       "      <td>1.0</td>\n",
       "      <td>0.0</td>\n",
       "      <td>13.0</td>\n",
       "      <td>1.0</td>\n",
       "      <td>0.0</td>\n",
       "      <td>0.0</td>\n",
       "      <td>0.0</td>\n",
       "    </tr>\n",
       "  </tbody>\n",
       "</table>\n",
       "<p>629090 rows × 13 columns</p>\n",
       "</div>"
      ],
      "text/plain": [
       "        creditLimit  availableMoney  transactionAmount  currentBalance  \\\n",
       "323244     0.364427       -0.256567          -0.736879        1.009541   \n",
       "722095    -0.903172       -0.687814          -0.836388       -0.681561   \n",
       "123059    -0.838718       -0.631247          -0.920057       -0.643212   \n",
       "656140    -0.494962       -0.362807           3.386716       -0.392951   \n",
       "720009    -0.709810       -0.644445          -0.878155       -0.392770   \n",
       "...             ...             ...                ...             ...   \n",
       "359783    -0.065268       -0.197864          -0.583012        0.154507   \n",
       "152315     3.372290        3.684541          -0.053855        1.009524   \n",
       "117952    -0.709810       -0.604847          -0.927300       -0.447228   \n",
       "435829     0.794122        0.194054          -0.371201        1.164112   \n",
       "305711     0.364427       -0.080218           0.023450        0.767012   \n",
       "\n",
       "        acqCountry  merchantCountryCode  posEntryMode  posConditionCode  \\\n",
       "323244         3.0                  3.0           2.0               0.0   \n",
       "722095         3.0                  3.0           2.0               0.0   \n",
       "123059         3.0                  3.0           1.0               1.0   \n",
       "656140         3.0                  3.0           1.0               0.0   \n",
       "720009         3.0                  3.0           1.0               0.0   \n",
       "...            ...                  ...           ...               ...   \n",
       "359783         3.0                  3.0           3.0               0.0   \n",
       "152315         3.0                  3.0           1.0               0.0   \n",
       "117952         3.0                  3.0           0.0               0.0   \n",
       "435829         3.0                  3.0           0.0               0.0   \n",
       "305711         3.0                  3.0           1.0               0.0   \n",
       "\n",
       "        merchantCategoryCode  transactionType  cardPresent  \\\n",
       "323244                   5.0              1.0          1.0   \n",
       "722095                   3.0              1.0          1.0   \n",
       "123059                  14.0              1.0          0.0   \n",
       "656140                   4.0              1.0          1.0   \n",
       "720009                  10.0              1.0          1.0   \n",
       "...                      ...              ...          ...   \n",
       "359783                   4.0              1.0          1.0   \n",
       "152315                  16.0              1.0          1.0   \n",
       "117952                   3.0              0.0          0.0   \n",
       "435829                  18.0              1.0          0.0   \n",
       "305711                  13.0              1.0          0.0   \n",
       "\n",
       "        expirationDateKeyInMatch  CorrectCVV  \n",
       "323244                       0.0         0.0  \n",
       "722095                       0.0         0.0  \n",
       "123059                       0.0         1.0  \n",
       "656140                       0.0         0.0  \n",
       "720009                       0.0         0.0  \n",
       "...                          ...         ...  \n",
       "359783                       0.0         0.0  \n",
       "152315                       0.0         0.0  \n",
       "117952                       0.0         0.0  \n",
       "435829                       0.0         0.0  \n",
       "305711                       0.0         0.0  \n",
       "\n",
       "[629090 rows x 13 columns]"
      ]
     },
     "execution_count": 42,
     "metadata": {},
     "output_type": "execute_result"
    }
   ],
   "source": [
    "X_train"
   ]
  },
  {
   "cell_type": "code",
   "execution_count": null,
   "id": "a61dc082",
   "metadata": {},
   "outputs": [],
   "source": []
  },
  {
   "cell_type": "code",
   "execution_count": 43,
   "id": "eda6b27e",
   "metadata": {},
   "outputs": [
    {
     "data": {
      "text/plain": [
       "isFraud\n",
       "0          154841\n",
       "1            2432\n",
       "dtype: int64"
      ]
     },
     "execution_count": 43,
     "metadata": {},
     "output_type": "execute_result"
    }
   ],
   "source": [
    "y_test.value_counts()"
   ]
  },
  {
   "cell_type": "code",
   "execution_count": null,
   "id": "7185bef3",
   "metadata": {},
   "outputs": [],
   "source": []
  },
  {
   "cell_type": "code",
   "execution_count": null,
   "id": "186d363f",
   "metadata": {},
   "outputs": [],
   "source": []
  },
  {
   "cell_type": "markdown",
   "id": "11e439b5",
   "metadata": {},
   "source": [
    "## Model 1 - Random Forest Classifier"
   ]
  },
  {
   "cell_type": "code",
   "execution_count": 44,
   "id": "c2f5e200",
   "metadata": {},
   "outputs": [],
   "source": [
    "#oversampling"
   ]
  },
  {
   "cell_type": "code",
   "execution_count": 45,
   "id": "c0dbf35d",
   "metadata": {},
   "outputs": [],
   "source": [
    "rf_classifier = RandomForestClassifier(n_estimators=20, criterion='entropy', random_state = 0)"
   ]
  },
  {
   "cell_type": "code",
   "execution_count": 46,
   "id": "b68eee66",
   "metadata": {},
   "outputs": [
    {
     "name": "stderr",
     "output_type": "stream",
     "text": [
      "/var/folders/d1/r_hn5h_d7n97jdxnl4l21bh40000gn/T/ipykernel_2107/31409248.py:1: DataConversionWarning: A column-vector y was passed when a 1d array was expected. Please change the shape of y to (n_samples,), for example using ravel().\n",
      "  rf_classifier.fit(X_train, y_train)\n"
     ]
    },
    {
     "data": {
      "text/plain": [
       "RandomForestClassifier(criterion='entropy', n_estimators=20, random_state=0)"
      ]
     },
     "execution_count": 46,
     "metadata": {},
     "output_type": "execute_result"
    }
   ],
   "source": [
    "rf_classifier.fit(X_train, y_train)"
   ]
  },
  {
   "cell_type": "code",
   "execution_count": 47,
   "id": "40e0a431",
   "metadata": {},
   "outputs": [],
   "source": [
    "y_pred = rf_classifier.predict(X_test)"
   ]
  },
  {
   "cell_type": "code",
   "execution_count": 48,
   "id": "3236e737",
   "metadata": {},
   "outputs": [
    {
     "name": "stdout",
     "output_type": "stream",
     "text": [
      "Classification report - Random Forest Classifier\n",
      "\n",
      "               precision    recall  f1-score   support\n",
      "\n",
      "           0       0.98      1.00      0.99    154841\n",
      "           1       0.08      0.00      0.01      2432\n",
      "\n",
      "    accuracy                           0.98    157273\n",
      "   macro avg       0.53      0.50      0.50    157273\n",
      "weighted avg       0.97      0.98      0.98    157273\n",
      "\n"
     ]
    }
   ],
   "source": [
    "print(\"Classification report - Random Forest Classifier\\n\\n\", classification_report(y_test, y_pred))"
   ]
  },
  {
   "cell_type": "code",
   "execution_count": 49,
   "id": "8ac1cecc",
   "metadata": {},
   "outputs": [
    {
     "data": {
      "text/plain": [
       "array([[154742,     99],\n",
       "       [  2423,      9]])"
      ]
     },
     "execution_count": 49,
     "metadata": {},
     "output_type": "execute_result"
    }
   ],
   "source": [
    "confusion_matrix(y_test, y_pred)"
   ]
  },
  {
   "cell_type": "code",
   "execution_count": 50,
   "id": "b9ad5147",
   "metadata": {},
   "outputs": [],
   "source": [
    "acc_rf = rf_classifier.score(X_test, y_test)"
   ]
  },
  {
   "cell_type": "code",
   "execution_count": 51,
   "id": "e0c0671c",
   "metadata": {},
   "outputs": [
    {
     "name": "stdout",
     "output_type": "stream",
     "text": [
      "Accuracy of Random Forest model on test dataset :- 0.9839641896574746\n"
     ]
    }
   ],
   "source": [
    "print(f'Accuracy of Random Forest model on test dataset :- {acc_rf}')"
   ]
  },
  {
   "cell_type": "code",
   "execution_count": null,
   "id": "ed08908d",
   "metadata": {},
   "outputs": [],
   "source": []
  },
  {
   "cell_type": "markdown",
   "id": "9ee13722",
   "metadata": {},
   "source": [
    "## Model 2 - Decision Tree Classifier"
   ]
  },
  {
   "cell_type": "code",
   "execution_count": 52,
   "id": "ff8b98b1",
   "metadata": {},
   "outputs": [],
   "source": [
    "dt_classifier = DecisionTreeClassifier()"
   ]
  },
  {
   "cell_type": "code",
   "execution_count": 53,
   "id": "914d6dbc",
   "metadata": {},
   "outputs": [
    {
     "data": {
      "text/plain": [
       "DecisionTreeClassifier()"
      ]
     },
     "execution_count": 53,
     "metadata": {},
     "output_type": "execute_result"
    }
   ],
   "source": [
    "dt_classifier.fit(X_train, y_train)"
   ]
  },
  {
   "cell_type": "code",
   "execution_count": 54,
   "id": "87d7d4fc",
   "metadata": {},
   "outputs": [],
   "source": [
    "y_pred_dt = dt_classifier.predict(X_test)"
   ]
  },
  {
   "cell_type": "code",
   "execution_count": 55,
   "id": "cf84ea03",
   "metadata": {},
   "outputs": [
    {
     "name": "stdout",
     "output_type": "stream",
     "text": [
      "Classification Report - Decision Tree Classifier\n",
      "\n",
      "               precision    recall  f1-score   support\n",
      "\n",
      "           0       0.99      0.98      0.98    154841\n",
      "           1       0.05      0.05      0.05      2432\n",
      "\n",
      "    accuracy                           0.97    157273\n",
      "   macro avg       0.52      0.52      0.52    157273\n",
      "weighted avg       0.97      0.97      0.97    157273\n",
      "\n"
     ]
    }
   ],
   "source": [
    "print(\"Classification Report - Decision Tree Classifier\\n\\n\",classification_report(y_test, y_pred_dt))"
   ]
  },
  {
   "cell_type": "code",
   "execution_count": 56,
   "id": "85329875",
   "metadata": {},
   "outputs": [
    {
     "data": {
      "text/plain": [
       "array([[152242,   2599],\n",
       "       [  2307,    125]])"
      ]
     },
     "execution_count": 56,
     "metadata": {},
     "output_type": "execute_result"
    }
   ],
   "source": [
    "confusion_matrix(y_test, y_pred_dt)"
   ]
  },
  {
   "cell_type": "code",
   "execution_count": 57,
   "id": "68186f46",
   "metadata": {},
   "outputs": [
    {
     "name": "stdout",
     "output_type": "stream",
     "text": [
      "Accuracy of model on test dataset :- 0.9688058344407495\n"
     ]
    }
   ],
   "source": [
    "acc_dt = dt_classifier.score(X_test, y_test)\n",
    "print(f'Accuracy of model on test dataset :- {acc_dt}')"
   ]
  },
  {
   "cell_type": "code",
   "execution_count": null,
   "id": "adfd9c02",
   "metadata": {},
   "outputs": [],
   "source": []
  },
  {
   "cell_type": "markdown",
   "id": "f7ed695b",
   "metadata": {},
   "source": [
    "## Improving Model Using Sampling Techniques"
   ]
  },
  {
   "cell_type": "markdown",
   "id": "a7cf638b",
   "metadata": {},
   "source": [
    "### Undersampling"
   ]
  },
  {
   "cell_type": "code",
   "execution_count": 58,
   "id": "7bc4abb7",
   "metadata": {},
   "outputs": [],
   "source": [
    "class_val = df['isFraud'].value_counts()"
   ]
  },
  {
   "cell_type": "code",
   "execution_count": 59,
   "id": "944c10ed",
   "metadata": {},
   "outputs": [
    {
     "data": {
      "text/plain": [
       "0    773946\n",
       "1     12417\n",
       "Name: isFraud, dtype: int64"
      ]
     },
     "execution_count": 59,
     "metadata": {},
     "output_type": "execute_result"
    }
   ],
   "source": [
    "class_val"
   ]
  },
  {
   "cell_type": "code",
   "execution_count": 60,
   "id": "c7b7a118",
   "metadata": {},
   "outputs": [],
   "source": [
    "non_fraud = class_val[0]\n",
    "fraud = class_val[1]"
   ]
  },
  {
   "cell_type": "code",
   "execution_count": 61,
   "id": "2f7af252",
   "metadata": {},
   "outputs": [
    {
     "name": "stdout",
     "output_type": "stream",
     "text": [
      "Non Fraudulent Numbers :- 773946\n",
      "Fraudulent Numbers :- 12417\n"
     ]
    }
   ],
   "source": [
    "print(f\"Non Fraudulent Numbers :- {non_fraud}\")\n",
    "print(f\"Fraudulent Numbers :- {fraud}\")"
   ]
  },
  {
   "cell_type": "code",
   "execution_count": 62,
   "id": "ba7e35f1",
   "metadata": {},
   "outputs": [],
   "source": [
    "nonfraud_indexies = df[df.isFraud == 0].index\n",
    "fraud_indices = np.array(df[df['isFraud'] == 1].index)\n",
    "# take random samples from non fraudulent that are equal to fraudulent samples\n",
    "random_normal_indexies = np.random.choice(nonfraud_indexies, fraud, replace=False)\n",
    "random_normal_indexies = np.array(random_normal_indexies)"
   ]
  },
  {
   "cell_type": "code",
   "execution_count": 63,
   "id": "c216723b",
   "metadata": {},
   "outputs": [],
   "source": [
    "under_sample_indices = np.concatenate([fraud_indices, random_normal_indexies])"
   ]
  },
  {
   "cell_type": "code",
   "execution_count": 64,
   "id": "38546c7a",
   "metadata": {},
   "outputs": [],
   "source": [
    "under_sample_data = Data.iloc[under_sample_indices, :]"
   ]
  },
  {
   "cell_type": "code",
   "execution_count": 65,
   "id": "09185d7b",
   "metadata": {},
   "outputs": [
    {
     "data": {
      "text/html": [
       "<div>\n",
       "<style scoped>\n",
       "    .dataframe tbody tr th:only-of-type {\n",
       "        vertical-align: middle;\n",
       "    }\n",
       "\n",
       "    .dataframe tbody tr th {\n",
       "        vertical-align: top;\n",
       "    }\n",
       "\n",
       "    .dataframe thead th {\n",
       "        text-align: right;\n",
       "    }\n",
       "</style>\n",
       "<table border=\"1\" class=\"dataframe\">\n",
       "  <thead>\n",
       "    <tr style=\"text-align: right;\">\n",
       "      <th></th>\n",
       "      <th>creditLimit</th>\n",
       "      <th>availableMoney</th>\n",
       "      <th>transactionAmount</th>\n",
       "      <th>currentBalance</th>\n",
       "      <th>acqCountry</th>\n",
       "      <th>merchantCountryCode</th>\n",
       "      <th>posEntryMode</th>\n",
       "      <th>posConditionCode</th>\n",
       "      <th>merchantCategoryCode</th>\n",
       "      <th>transactionType</th>\n",
       "      <th>cardPresent</th>\n",
       "      <th>expirationDateKeyInMatch</th>\n",
       "      <th>CorrectCVV</th>\n",
       "    </tr>\n",
       "  </thead>\n",
       "  <tbody>\n",
       "    <tr>\n",
       "      <th>694</th>\n",
       "      <td>3.372290</td>\n",
       "      <td>0.266089</td>\n",
       "      <td>0.191397</td>\n",
       "      <td>5.710850</td>\n",
       "      <td>3.0</td>\n",
       "      <td>3.0</td>\n",
       "      <td>2.0</td>\n",
       "      <td>1.0</td>\n",
       "      <td>10.0</td>\n",
       "      <td>1.0</td>\n",
       "      <td>0.0</td>\n",
       "      <td>0.0</td>\n",
       "      <td>0.0</td>\n",
       "    </tr>\n",
       "    <tr>\n",
       "      <th>971</th>\n",
       "      <td>0.364427</td>\n",
       "      <td>0.885422</td>\n",
       "      <td>1.095710</td>\n",
       "      <td>-0.561012</td>\n",
       "      <td>3.0</td>\n",
       "      <td>3.0</td>\n",
       "      <td>2.0</td>\n",
       "      <td>0.0</td>\n",
       "      <td>14.0</td>\n",
       "      <td>1.0</td>\n",
       "      <td>0.0</td>\n",
       "      <td>0.0</td>\n",
       "      <td>0.0</td>\n",
       "    </tr>\n",
       "    <tr>\n",
       "      <th>1072</th>\n",
       "      <td>0.364427</td>\n",
       "      <td>0.839087</td>\n",
       "      <td>1.827066</td>\n",
       "      <td>-0.497288</td>\n",
       "      <td>3.0</td>\n",
       "      <td>3.0</td>\n",
       "      <td>2.0</td>\n",
       "      <td>0.0</td>\n",
       "      <td>10.0</td>\n",
       "      <td>1.0</td>\n",
       "      <td>0.0</td>\n",
       "      <td>0.0</td>\n",
       "      <td>0.0</td>\n",
       "    </tr>\n",
       "    <tr>\n",
       "      <th>1113</th>\n",
       "      <td>0.364427</td>\n",
       "      <td>0.303223</td>\n",
       "      <td>2.046527</td>\n",
       "      <td>0.239674</td>\n",
       "      <td>3.0</td>\n",
       "      <td>3.0</td>\n",
       "      <td>2.0</td>\n",
       "      <td>0.0</td>\n",
       "      <td>14.0</td>\n",
       "      <td>1.0</td>\n",
       "      <td>0.0</td>\n",
       "      <td>0.0</td>\n",
       "      <td>0.0</td>\n",
       "    </tr>\n",
       "    <tr>\n",
       "      <th>1321</th>\n",
       "      <td>0.364427</td>\n",
       "      <td>-0.115721</td>\n",
       "      <td>0.873947</td>\n",
       "      <td>0.815839</td>\n",
       "      <td>3.0</td>\n",
       "      <td>3.0</td>\n",
       "      <td>2.0</td>\n",
       "      <td>0.0</td>\n",
       "      <td>14.0</td>\n",
       "      <td>1.0</td>\n",
       "      <td>0.0</td>\n",
       "      <td>0.0</td>\n",
       "      <td>0.0</td>\n",
       "    </tr>\n",
       "    <tr>\n",
       "      <th>...</th>\n",
       "      <td>...</td>\n",
       "      <td>...</td>\n",
       "      <td>...</td>\n",
       "      <td>...</td>\n",
       "      <td>...</td>\n",
       "      <td>...</td>\n",
       "      <td>...</td>\n",
       "      <td>...</td>\n",
       "      <td>...</td>\n",
       "      <td>...</td>\n",
       "      <td>...</td>\n",
       "      <td>...</td>\n",
       "      <td>...</td>\n",
       "    </tr>\n",
       "    <tr>\n",
       "      <th>252635</th>\n",
       "      <td>-0.494962</td>\n",
       "      <td>-0.294980</td>\n",
       "      <td>-0.857237</td>\n",
       "      <td>-0.486231</td>\n",
       "      <td>3.0</td>\n",
       "      <td>3.0</td>\n",
       "      <td>2.0</td>\n",
       "      <td>0.0</td>\n",
       "      <td>13.0</td>\n",
       "      <td>1.0</td>\n",
       "      <td>0.0</td>\n",
       "      <td>0.0</td>\n",
       "      <td>0.0</td>\n",
       "    </tr>\n",
       "    <tr>\n",
       "      <th>738105</th>\n",
       "      <td>0.364427</td>\n",
       "      <td>0.697544</td>\n",
       "      <td>-0.203592</td>\n",
       "      <td>-0.302628</td>\n",
       "      <td>3.0</td>\n",
       "      <td>3.0</td>\n",
       "      <td>1.0</td>\n",
       "      <td>0.0</td>\n",
       "      <td>3.0</td>\n",
       "      <td>1.0</td>\n",
       "      <td>1.0</td>\n",
       "      <td>0.0</td>\n",
       "      <td>0.0</td>\n",
       "    </tr>\n",
       "    <tr>\n",
       "      <th>38994</th>\n",
       "      <td>0.364427</td>\n",
       "      <td>-0.545990</td>\n",
       "      <td>-0.541720</td>\n",
       "      <td>1.407579</td>\n",
       "      <td>3.0</td>\n",
       "      <td>3.0</td>\n",
       "      <td>2.0</td>\n",
       "      <td>0.0</td>\n",
       "      <td>13.0</td>\n",
       "      <td>1.0</td>\n",
       "      <td>0.0</td>\n",
       "      <td>0.0</td>\n",
       "      <td>0.0</td>\n",
       "    </tr>\n",
       "    <tr>\n",
       "      <th>614930</th>\n",
       "      <td>-0.065268</td>\n",
       "      <td>-0.091929</td>\n",
       "      <td>-0.473823</td>\n",
       "      <td>0.008818</td>\n",
       "      <td>3.0</td>\n",
       "      <td>3.0</td>\n",
       "      <td>0.0</td>\n",
       "      <td>0.0</td>\n",
       "      <td>14.0</td>\n",
       "      <td>1.0</td>\n",
       "      <td>0.0</td>\n",
       "      <td>0.0</td>\n",
       "      <td>0.0</td>\n",
       "    </tr>\n",
       "    <tr>\n",
       "      <th>64048</th>\n",
       "      <td>-0.494962</td>\n",
       "      <td>-0.588494</td>\n",
       "      <td>-0.265802</td>\n",
       "      <td>-0.082568</td>\n",
       "      <td>3.0</td>\n",
       "      <td>3.0</td>\n",
       "      <td>4.0</td>\n",
       "      <td>0.0</td>\n",
       "      <td>0.0</td>\n",
       "      <td>1.0</td>\n",
       "      <td>0.0</td>\n",
       "      <td>0.0</td>\n",
       "      <td>0.0</td>\n",
       "    </tr>\n",
       "  </tbody>\n",
       "</table>\n",
       "<p>24834 rows × 13 columns</p>\n",
       "</div>"
      ],
      "text/plain": [
       "        creditLimit  availableMoney  transactionAmount  currentBalance  \\\n",
       "694        3.372290        0.266089           0.191397        5.710850   \n",
       "971        0.364427        0.885422           1.095710       -0.561012   \n",
       "1072       0.364427        0.839087           1.827066       -0.497288   \n",
       "1113       0.364427        0.303223           2.046527        0.239674   \n",
       "1321       0.364427       -0.115721           0.873947        0.815839   \n",
       "...             ...             ...                ...             ...   \n",
       "252635    -0.494962       -0.294980          -0.857237       -0.486231   \n",
       "738105     0.364427        0.697544          -0.203592       -0.302628   \n",
       "38994      0.364427       -0.545990          -0.541720        1.407579   \n",
       "614930    -0.065268       -0.091929          -0.473823        0.008818   \n",
       "64048     -0.494962       -0.588494          -0.265802       -0.082568   \n",
       "\n",
       "        acqCountry  merchantCountryCode  posEntryMode  posConditionCode  \\\n",
       "694            3.0                  3.0           2.0               1.0   \n",
       "971            3.0                  3.0           2.0               0.0   \n",
       "1072           3.0                  3.0           2.0               0.0   \n",
       "1113           3.0                  3.0           2.0               0.0   \n",
       "1321           3.0                  3.0           2.0               0.0   \n",
       "...            ...                  ...           ...               ...   \n",
       "252635         3.0                  3.0           2.0               0.0   \n",
       "738105         3.0                  3.0           1.0               0.0   \n",
       "38994          3.0                  3.0           2.0               0.0   \n",
       "614930         3.0                  3.0           0.0               0.0   \n",
       "64048          3.0                  3.0           4.0               0.0   \n",
       "\n",
       "        merchantCategoryCode  transactionType  cardPresent  \\\n",
       "694                     10.0              1.0          0.0   \n",
       "971                     14.0              1.0          0.0   \n",
       "1072                    10.0              1.0          0.0   \n",
       "1113                    14.0              1.0          0.0   \n",
       "1321                    14.0              1.0          0.0   \n",
       "...                      ...              ...          ...   \n",
       "252635                  13.0              1.0          0.0   \n",
       "738105                   3.0              1.0          1.0   \n",
       "38994                   13.0              1.0          0.0   \n",
       "614930                  14.0              1.0          0.0   \n",
       "64048                    0.0              1.0          0.0   \n",
       "\n",
       "        expirationDateKeyInMatch  CorrectCVV  \n",
       "694                          0.0         0.0  \n",
       "971                          0.0         0.0  \n",
       "1072                         0.0         0.0  \n",
       "1113                         0.0         0.0  \n",
       "1321                         0.0         0.0  \n",
       "...                          ...         ...  \n",
       "252635                       0.0         0.0  \n",
       "738105                       0.0         0.0  \n",
       "38994                        0.0         0.0  \n",
       "614930                       0.0         0.0  \n",
       "64048                        0.0         0.0  \n",
       "\n",
       "[24834 rows x 13 columns]"
      ]
     },
     "execution_count": 65,
     "metadata": {},
     "output_type": "execute_result"
    }
   ],
   "source": [
    "under_sample_data"
   ]
  },
  {
   "cell_type": "code",
   "execution_count": 66,
   "id": "d26446d9",
   "metadata": {},
   "outputs": [],
   "source": [
    "y_under_sample_data = df_target.iloc[under_sample_indices, :]"
   ]
  },
  {
   "cell_type": "code",
   "execution_count": 67,
   "id": "177515e1",
   "metadata": {},
   "outputs": [
    {
     "data": {
      "text/html": [
       "<div>\n",
       "<style scoped>\n",
       "    .dataframe tbody tr th:only-of-type {\n",
       "        vertical-align: middle;\n",
       "    }\n",
       "\n",
       "    .dataframe tbody tr th {\n",
       "        vertical-align: top;\n",
       "    }\n",
       "\n",
       "    .dataframe thead th {\n",
       "        text-align: right;\n",
       "    }\n",
       "</style>\n",
       "<table border=\"1\" class=\"dataframe\">\n",
       "  <thead>\n",
       "    <tr style=\"text-align: right;\">\n",
       "      <th></th>\n",
       "      <th>isFraud</th>\n",
       "    </tr>\n",
       "  </thead>\n",
       "  <tbody>\n",
       "    <tr>\n",
       "      <th>694</th>\n",
       "      <td>1</td>\n",
       "    </tr>\n",
       "    <tr>\n",
       "      <th>971</th>\n",
       "      <td>1</td>\n",
       "    </tr>\n",
       "    <tr>\n",
       "      <th>1072</th>\n",
       "      <td>1</td>\n",
       "    </tr>\n",
       "    <tr>\n",
       "      <th>1113</th>\n",
       "      <td>1</td>\n",
       "    </tr>\n",
       "    <tr>\n",
       "      <th>1321</th>\n",
       "      <td>1</td>\n",
       "    </tr>\n",
       "    <tr>\n",
       "      <th>...</th>\n",
       "      <td>...</td>\n",
       "    </tr>\n",
       "    <tr>\n",
       "      <th>252635</th>\n",
       "      <td>0</td>\n",
       "    </tr>\n",
       "    <tr>\n",
       "      <th>738105</th>\n",
       "      <td>0</td>\n",
       "    </tr>\n",
       "    <tr>\n",
       "      <th>38994</th>\n",
       "      <td>0</td>\n",
       "    </tr>\n",
       "    <tr>\n",
       "      <th>614930</th>\n",
       "      <td>0</td>\n",
       "    </tr>\n",
       "    <tr>\n",
       "      <th>64048</th>\n",
       "      <td>0</td>\n",
       "    </tr>\n",
       "  </tbody>\n",
       "</table>\n",
       "<p>24834 rows × 1 columns</p>\n",
       "</div>"
      ],
      "text/plain": [
       "        isFraud\n",
       "694           1\n",
       "971           1\n",
       "1072          1\n",
       "1113          1\n",
       "1321          1\n",
       "...         ...\n",
       "252635        0\n",
       "738105        0\n",
       "38994         0\n",
       "614930        0\n",
       "64048         0\n",
       "\n",
       "[24834 rows x 1 columns]"
      ]
     },
     "execution_count": 67,
     "metadata": {},
     "output_type": "execute_result"
    }
   ],
   "source": [
    "y_under_sample_data"
   ]
  },
  {
   "cell_type": "code",
   "execution_count": 68,
   "id": "1189e6cd",
   "metadata": {},
   "outputs": [],
   "source": [
    "x_undersample_data = under_sample_data\n",
    "y_undersample_data = y_under_sample_data[['isFraud']]"
   ]
  },
  {
   "cell_type": "code",
   "execution_count": 69,
   "id": "96ea3c80",
   "metadata": {},
   "outputs": [
    {
     "data": {
      "text/html": [
       "<div>\n",
       "<style scoped>\n",
       "    .dataframe tbody tr th:only-of-type {\n",
       "        vertical-align: middle;\n",
       "    }\n",
       "\n",
       "    .dataframe tbody tr th {\n",
       "        vertical-align: top;\n",
       "    }\n",
       "\n",
       "    .dataframe thead th {\n",
       "        text-align: right;\n",
       "    }\n",
       "</style>\n",
       "<table border=\"1\" class=\"dataframe\">\n",
       "  <thead>\n",
       "    <tr style=\"text-align: right;\">\n",
       "      <th></th>\n",
       "      <th>creditLimit</th>\n",
       "      <th>availableMoney</th>\n",
       "      <th>transactionAmount</th>\n",
       "      <th>currentBalance</th>\n",
       "      <th>acqCountry</th>\n",
       "      <th>merchantCountryCode</th>\n",
       "      <th>posEntryMode</th>\n",
       "      <th>posConditionCode</th>\n",
       "      <th>merchantCategoryCode</th>\n",
       "      <th>transactionType</th>\n",
       "      <th>cardPresent</th>\n",
       "      <th>expirationDateKeyInMatch</th>\n",
       "      <th>CorrectCVV</th>\n",
       "    </tr>\n",
       "  </thead>\n",
       "  <tbody>\n",
       "    <tr>\n",
       "      <th>694</th>\n",
       "      <td>3.372290</td>\n",
       "      <td>0.266089</td>\n",
       "      <td>0.191397</td>\n",
       "      <td>5.710850</td>\n",
       "      <td>3.0</td>\n",
       "      <td>3.0</td>\n",
       "      <td>2.0</td>\n",
       "      <td>1.0</td>\n",
       "      <td>10.0</td>\n",
       "      <td>1.0</td>\n",
       "      <td>0.0</td>\n",
       "      <td>0.0</td>\n",
       "      <td>0.0</td>\n",
       "    </tr>\n",
       "    <tr>\n",
       "      <th>971</th>\n",
       "      <td>0.364427</td>\n",
       "      <td>0.885422</td>\n",
       "      <td>1.095710</td>\n",
       "      <td>-0.561012</td>\n",
       "      <td>3.0</td>\n",
       "      <td>3.0</td>\n",
       "      <td>2.0</td>\n",
       "      <td>0.0</td>\n",
       "      <td>14.0</td>\n",
       "      <td>1.0</td>\n",
       "      <td>0.0</td>\n",
       "      <td>0.0</td>\n",
       "      <td>0.0</td>\n",
       "    </tr>\n",
       "    <tr>\n",
       "      <th>1072</th>\n",
       "      <td>0.364427</td>\n",
       "      <td>0.839087</td>\n",
       "      <td>1.827066</td>\n",
       "      <td>-0.497288</td>\n",
       "      <td>3.0</td>\n",
       "      <td>3.0</td>\n",
       "      <td>2.0</td>\n",
       "      <td>0.0</td>\n",
       "      <td>10.0</td>\n",
       "      <td>1.0</td>\n",
       "      <td>0.0</td>\n",
       "      <td>0.0</td>\n",
       "      <td>0.0</td>\n",
       "    </tr>\n",
       "    <tr>\n",
       "      <th>1113</th>\n",
       "      <td>0.364427</td>\n",
       "      <td>0.303223</td>\n",
       "      <td>2.046527</td>\n",
       "      <td>0.239674</td>\n",
       "      <td>3.0</td>\n",
       "      <td>3.0</td>\n",
       "      <td>2.0</td>\n",
       "      <td>0.0</td>\n",
       "      <td>14.0</td>\n",
       "      <td>1.0</td>\n",
       "      <td>0.0</td>\n",
       "      <td>0.0</td>\n",
       "      <td>0.0</td>\n",
       "    </tr>\n",
       "    <tr>\n",
       "      <th>1321</th>\n",
       "      <td>0.364427</td>\n",
       "      <td>-0.115721</td>\n",
       "      <td>0.873947</td>\n",
       "      <td>0.815839</td>\n",
       "      <td>3.0</td>\n",
       "      <td>3.0</td>\n",
       "      <td>2.0</td>\n",
       "      <td>0.0</td>\n",
       "      <td>14.0</td>\n",
       "      <td>1.0</td>\n",
       "      <td>0.0</td>\n",
       "      <td>0.0</td>\n",
       "      <td>0.0</td>\n",
       "    </tr>\n",
       "    <tr>\n",
       "      <th>...</th>\n",
       "      <td>...</td>\n",
       "      <td>...</td>\n",
       "      <td>...</td>\n",
       "      <td>...</td>\n",
       "      <td>...</td>\n",
       "      <td>...</td>\n",
       "      <td>...</td>\n",
       "      <td>...</td>\n",
       "      <td>...</td>\n",
       "      <td>...</td>\n",
       "      <td>...</td>\n",
       "      <td>...</td>\n",
       "      <td>...</td>\n",
       "    </tr>\n",
       "    <tr>\n",
       "      <th>252635</th>\n",
       "      <td>-0.494962</td>\n",
       "      <td>-0.294980</td>\n",
       "      <td>-0.857237</td>\n",
       "      <td>-0.486231</td>\n",
       "      <td>3.0</td>\n",
       "      <td>3.0</td>\n",
       "      <td>2.0</td>\n",
       "      <td>0.0</td>\n",
       "      <td>13.0</td>\n",
       "      <td>1.0</td>\n",
       "      <td>0.0</td>\n",
       "      <td>0.0</td>\n",
       "      <td>0.0</td>\n",
       "    </tr>\n",
       "    <tr>\n",
       "      <th>738105</th>\n",
       "      <td>0.364427</td>\n",
       "      <td>0.697544</td>\n",
       "      <td>-0.203592</td>\n",
       "      <td>-0.302628</td>\n",
       "      <td>3.0</td>\n",
       "      <td>3.0</td>\n",
       "      <td>1.0</td>\n",
       "      <td>0.0</td>\n",
       "      <td>3.0</td>\n",
       "      <td>1.0</td>\n",
       "      <td>1.0</td>\n",
       "      <td>0.0</td>\n",
       "      <td>0.0</td>\n",
       "    </tr>\n",
       "    <tr>\n",
       "      <th>38994</th>\n",
       "      <td>0.364427</td>\n",
       "      <td>-0.545990</td>\n",
       "      <td>-0.541720</td>\n",
       "      <td>1.407579</td>\n",
       "      <td>3.0</td>\n",
       "      <td>3.0</td>\n",
       "      <td>2.0</td>\n",
       "      <td>0.0</td>\n",
       "      <td>13.0</td>\n",
       "      <td>1.0</td>\n",
       "      <td>0.0</td>\n",
       "      <td>0.0</td>\n",
       "      <td>0.0</td>\n",
       "    </tr>\n",
       "    <tr>\n",
       "      <th>614930</th>\n",
       "      <td>-0.065268</td>\n",
       "      <td>-0.091929</td>\n",
       "      <td>-0.473823</td>\n",
       "      <td>0.008818</td>\n",
       "      <td>3.0</td>\n",
       "      <td>3.0</td>\n",
       "      <td>0.0</td>\n",
       "      <td>0.0</td>\n",
       "      <td>14.0</td>\n",
       "      <td>1.0</td>\n",
       "      <td>0.0</td>\n",
       "      <td>0.0</td>\n",
       "      <td>0.0</td>\n",
       "    </tr>\n",
       "    <tr>\n",
       "      <th>64048</th>\n",
       "      <td>-0.494962</td>\n",
       "      <td>-0.588494</td>\n",
       "      <td>-0.265802</td>\n",
       "      <td>-0.082568</td>\n",
       "      <td>3.0</td>\n",
       "      <td>3.0</td>\n",
       "      <td>4.0</td>\n",
       "      <td>0.0</td>\n",
       "      <td>0.0</td>\n",
       "      <td>1.0</td>\n",
       "      <td>0.0</td>\n",
       "      <td>0.0</td>\n",
       "      <td>0.0</td>\n",
       "    </tr>\n",
       "  </tbody>\n",
       "</table>\n",
       "<p>24834 rows × 13 columns</p>\n",
       "</div>"
      ],
      "text/plain": [
       "        creditLimit  availableMoney  transactionAmount  currentBalance  \\\n",
       "694        3.372290        0.266089           0.191397        5.710850   \n",
       "971        0.364427        0.885422           1.095710       -0.561012   \n",
       "1072       0.364427        0.839087           1.827066       -0.497288   \n",
       "1113       0.364427        0.303223           2.046527        0.239674   \n",
       "1321       0.364427       -0.115721           0.873947        0.815839   \n",
       "...             ...             ...                ...             ...   \n",
       "252635    -0.494962       -0.294980          -0.857237       -0.486231   \n",
       "738105     0.364427        0.697544          -0.203592       -0.302628   \n",
       "38994      0.364427       -0.545990          -0.541720        1.407579   \n",
       "614930    -0.065268       -0.091929          -0.473823        0.008818   \n",
       "64048     -0.494962       -0.588494          -0.265802       -0.082568   \n",
       "\n",
       "        acqCountry  merchantCountryCode  posEntryMode  posConditionCode  \\\n",
       "694            3.0                  3.0           2.0               1.0   \n",
       "971            3.0                  3.0           2.0               0.0   \n",
       "1072           3.0                  3.0           2.0               0.0   \n",
       "1113           3.0                  3.0           2.0               0.0   \n",
       "1321           3.0                  3.0           2.0               0.0   \n",
       "...            ...                  ...           ...               ...   \n",
       "252635         3.0                  3.0           2.0               0.0   \n",
       "738105         3.0                  3.0           1.0               0.0   \n",
       "38994          3.0                  3.0           2.0               0.0   \n",
       "614930         3.0                  3.0           0.0               0.0   \n",
       "64048          3.0                  3.0           4.0               0.0   \n",
       "\n",
       "        merchantCategoryCode  transactionType  cardPresent  \\\n",
       "694                     10.0              1.0          0.0   \n",
       "971                     14.0              1.0          0.0   \n",
       "1072                    10.0              1.0          0.0   \n",
       "1113                    14.0              1.0          0.0   \n",
       "1321                    14.0              1.0          0.0   \n",
       "...                      ...              ...          ...   \n",
       "252635                  13.0              1.0          0.0   \n",
       "738105                   3.0              1.0          1.0   \n",
       "38994                   13.0              1.0          0.0   \n",
       "614930                  14.0              1.0          0.0   \n",
       "64048                    0.0              1.0          0.0   \n",
       "\n",
       "        expirationDateKeyInMatch  CorrectCVV  \n",
       "694                          0.0         0.0  \n",
       "971                          0.0         0.0  \n",
       "1072                         0.0         0.0  \n",
       "1113                         0.0         0.0  \n",
       "1321                         0.0         0.0  \n",
       "...                          ...         ...  \n",
       "252635                       0.0         0.0  \n",
       "738105                       0.0         0.0  \n",
       "38994                        0.0         0.0  \n",
       "614930                       0.0         0.0  \n",
       "64048                        0.0         0.0  \n",
       "\n",
       "[24834 rows x 13 columns]"
      ]
     },
     "execution_count": 69,
     "metadata": {},
     "output_type": "execute_result"
    }
   ],
   "source": [
    "x_undersample_data"
   ]
  },
  {
   "cell_type": "code",
   "execution_count": 70,
   "id": "632bf5a7",
   "metadata": {},
   "outputs": [
    {
     "data": {
      "text/html": [
       "<div>\n",
       "<style scoped>\n",
       "    .dataframe tbody tr th:only-of-type {\n",
       "        vertical-align: middle;\n",
       "    }\n",
       "\n",
       "    .dataframe tbody tr th {\n",
       "        vertical-align: top;\n",
       "    }\n",
       "\n",
       "    .dataframe thead th {\n",
       "        text-align: right;\n",
       "    }\n",
       "</style>\n",
       "<table border=\"1\" class=\"dataframe\">\n",
       "  <thead>\n",
       "    <tr style=\"text-align: right;\">\n",
       "      <th></th>\n",
       "      <th>isFraud</th>\n",
       "    </tr>\n",
       "  </thead>\n",
       "  <tbody>\n",
       "    <tr>\n",
       "      <th>694</th>\n",
       "      <td>1</td>\n",
       "    </tr>\n",
       "    <tr>\n",
       "      <th>971</th>\n",
       "      <td>1</td>\n",
       "    </tr>\n",
       "    <tr>\n",
       "      <th>1072</th>\n",
       "      <td>1</td>\n",
       "    </tr>\n",
       "    <tr>\n",
       "      <th>1113</th>\n",
       "      <td>1</td>\n",
       "    </tr>\n",
       "    <tr>\n",
       "      <th>1321</th>\n",
       "      <td>1</td>\n",
       "    </tr>\n",
       "    <tr>\n",
       "      <th>...</th>\n",
       "      <td>...</td>\n",
       "    </tr>\n",
       "    <tr>\n",
       "      <th>252635</th>\n",
       "      <td>0</td>\n",
       "    </tr>\n",
       "    <tr>\n",
       "      <th>738105</th>\n",
       "      <td>0</td>\n",
       "    </tr>\n",
       "    <tr>\n",
       "      <th>38994</th>\n",
       "      <td>0</td>\n",
       "    </tr>\n",
       "    <tr>\n",
       "      <th>614930</th>\n",
       "      <td>0</td>\n",
       "    </tr>\n",
       "    <tr>\n",
       "      <th>64048</th>\n",
       "      <td>0</td>\n",
       "    </tr>\n",
       "  </tbody>\n",
       "</table>\n",
       "<p>24834 rows × 1 columns</p>\n",
       "</div>"
      ],
      "text/plain": [
       "        isFraud\n",
       "694           1\n",
       "971           1\n",
       "1072          1\n",
       "1113          1\n",
       "1321          1\n",
       "...         ...\n",
       "252635        0\n",
       "738105        0\n",
       "38994         0\n",
       "614930        0\n",
       "64048         0\n",
       "\n",
       "[24834 rows x 1 columns]"
      ]
     },
     "execution_count": 70,
     "metadata": {},
     "output_type": "execute_result"
    }
   ],
   "source": [
    "y_undersample_data"
   ]
  },
  {
   "cell_type": "code",
   "execution_count": 71,
   "id": "61fc1097",
   "metadata": {},
   "outputs": [
    {
     "data": {
      "text/plain": [
       "isFraud\n",
       "0          12417\n",
       "1          12417\n",
       "dtype: int64"
      ]
     },
     "execution_count": 71,
     "metadata": {},
     "output_type": "execute_result"
    }
   ],
   "source": [
    "y_undersample_data.value_counts()"
   ]
  },
  {
   "cell_type": "code",
   "execution_count": null,
   "id": "ae1e2689",
   "metadata": {},
   "outputs": [],
   "source": []
  },
  {
   "cell_type": "markdown",
   "id": "ab550bac",
   "metadata": {},
   "source": [
    "### Train and Test Data Split "
   ]
  },
  {
   "cell_type": "code",
   "execution_count": 72,
   "id": "9067b585",
   "metadata": {},
   "outputs": [],
   "source": [
    "X_train_sample, X_test_sample, y_train_sample, y_test_sample = train_test_split(\n",
    "x_undersample_data, y_undersample_data, test_size=0.2, random_state=0)\n"
   ]
  },
  {
   "cell_type": "code",
   "execution_count": 73,
   "id": "9e7f33ec",
   "metadata": {},
   "outputs": [
    {
     "data": {
      "text/plain": [
       "isFraud\n",
       "0          9934\n",
       "1          9933\n",
       "dtype: int64"
      ]
     },
     "execution_count": 73,
     "metadata": {},
     "output_type": "execute_result"
    }
   ],
   "source": [
    "y_train_sample.value_counts()"
   ]
  },
  {
   "cell_type": "code",
   "execution_count": 74,
   "id": "387cbadc",
   "metadata": {},
   "outputs": [
    {
     "data": {
      "text/plain": [
       "isFraud\n",
       "1          2484\n",
       "0          2483\n",
       "dtype: int64"
      ]
     },
     "execution_count": 74,
     "metadata": {},
     "output_type": "execute_result"
    }
   ],
   "source": [
    "y_test_sample.value_counts()"
   ]
  },
  {
   "cell_type": "code",
   "execution_count": 75,
   "id": "b49ac507",
   "metadata": {},
   "outputs": [
    {
     "data": {
      "text/plain": [
       "(19867, 13)"
      ]
     },
     "execution_count": 75,
     "metadata": {},
     "output_type": "execute_result"
    }
   ],
   "source": [
    "X_train_sample.shape"
   ]
  },
  {
   "cell_type": "code",
   "execution_count": 76,
   "id": "0300d63f",
   "metadata": {},
   "outputs": [
    {
     "data": {
      "text/plain": [
       "(4967, 13)"
      ]
     },
     "execution_count": 76,
     "metadata": {},
     "output_type": "execute_result"
    }
   ],
   "source": [
    "X_test_sample.shape"
   ]
  },
  {
   "cell_type": "code",
   "execution_count": null,
   "id": "55e87aee",
   "metadata": {},
   "outputs": [],
   "source": []
  },
  {
   "cell_type": "markdown",
   "id": "a9504e6f",
   "metadata": {},
   "source": [
    "### Random Forest Classifier - Undersampling"
   ]
  },
  {
   "cell_type": "code",
   "execution_count": 77,
   "id": "8f6d933a",
   "metadata": {},
   "outputs": [],
   "source": [
    "rf_classifier_2 = RandomForestClassifier(n_estimators=9, criterion='entropy', random_state = 0)"
   ]
  },
  {
   "cell_type": "code",
   "execution_count": 78,
   "id": "82c8e66c",
   "metadata": {},
   "outputs": [
    {
     "name": "stderr",
     "output_type": "stream",
     "text": [
      "/var/folders/d1/r_hn5h_d7n97jdxnl4l21bh40000gn/T/ipykernel_2107/3337407466.py:1: DataConversionWarning: A column-vector y was passed when a 1d array was expected. Please change the shape of y to (n_samples,), for example using ravel().\n",
      "  rf_classifier_2.fit(X_train_sample, y_train_sample)\n"
     ]
    },
    {
     "data": {
      "text/plain": [
       "RandomForestClassifier(criterion='entropy', n_estimators=9, random_state=0)"
      ]
     },
     "execution_count": 78,
     "metadata": {},
     "output_type": "execute_result"
    }
   ],
   "source": [
    "rf_classifier_2.fit(X_train_sample, y_train_sample)"
   ]
  },
  {
   "cell_type": "code",
   "execution_count": 79,
   "id": "70f6158a",
   "metadata": {},
   "outputs": [],
   "source": [
    "y_undersample_pred = rf_classifier_2.predict(X_test_sample)"
   ]
  },
  {
   "cell_type": "code",
   "execution_count": 80,
   "id": "0155a5ac",
   "metadata": {},
   "outputs": [
    {
     "name": "stdout",
     "output_type": "stream",
     "text": [
      "Classification Report - Random Forest Classifier\n",
      "\n",
      "               precision    recall  f1-score   support\n",
      "\n",
      "           0       0.66      0.66      0.66      2483\n",
      "           1       0.66      0.65      0.66      2484\n",
      "\n",
      "    accuracy                           0.66      4967\n",
      "   macro avg       0.66      0.66      0.66      4967\n",
      "weighted avg       0.66      0.66      0.66      4967\n",
      "\n"
     ]
    }
   ],
   "source": [
    "print(\"Classification Report - Random Forest Classifier\\n\\n\",\n",
    "      classification_report(y_test_sample, y_undersample_pred))"
   ]
  },
  {
   "cell_type": "code",
   "execution_count": 81,
   "id": "7c4267d5",
   "metadata": {},
   "outputs": [
    {
     "data": {
      "text/plain": [
       "array([[1647,  836],\n",
       "       [ 857, 1627]])"
      ]
     },
     "execution_count": 81,
     "metadata": {},
     "output_type": "execute_result"
    }
   ],
   "source": [
    "confusion_matrix(y_test_sample, y_undersample_pred)"
   ]
  },
  {
   "cell_type": "code",
   "execution_count": 82,
   "id": "491732ee",
   "metadata": {},
   "outputs": [],
   "source": [
    "acc_rf2 = rf_classifier.score(X_test_sample, y_test_sample)"
   ]
  },
  {
   "cell_type": "code",
   "execution_count": 83,
   "id": "0c32bd1e",
   "metadata": {},
   "outputs": [
    {
     "data": {
      "text/plain": [
       "0.8447755184215825"
      ]
     },
     "execution_count": 83,
     "metadata": {},
     "output_type": "execute_result"
    }
   ],
   "source": [
    "acc_rf2"
   ]
  },
  {
   "cell_type": "code",
   "execution_count": 84,
   "id": "c4c5e6b3",
   "metadata": {},
   "outputs": [
    {
     "name": "stdout",
     "output_type": "stream",
     "text": [
      "AROC score :- \n",
      " 0.6591512299741301\n"
     ]
    }
   ],
   "source": [
    "print(f\"AROC score :- \\n {roc_auc_score(y_test_sample, y_undersample_pred)}\")"
   ]
  },
  {
   "cell_type": "code",
   "execution_count": null,
   "id": "d4dcab08",
   "metadata": {},
   "outputs": [],
   "source": []
  },
  {
   "cell_type": "code",
   "execution_count": null,
   "id": "c812ce8e",
   "metadata": {},
   "outputs": [],
   "source": []
  },
  {
   "cell_type": "markdown",
   "id": "7d662b74",
   "metadata": {},
   "source": [
    "### Decision Tree Classifier - Undersampling"
   ]
  },
  {
   "cell_type": "code",
   "execution_count": 85,
   "id": "95339877",
   "metadata": {},
   "outputs": [],
   "source": [
    "dt_classifier_2 = DecisionTreeClassifier()\n",
    "\n",
    "dt_classifier_2.fit(X_train_sample, y_train_sample)\n",
    "\n",
    "y_pred_dt2 = dt_classifier_2.predict(X_test_sample)\n"
   ]
  },
  {
   "cell_type": "code",
   "execution_count": 86,
   "id": "d2a572e8",
   "metadata": {},
   "outputs": [
    {
     "name": "stdout",
     "output_type": "stream",
     "text": [
      "Classification Report - Decision Tree Classifier\n",
      "\n",
      "               precision    recall  f1-score   support\n",
      "\n",
      "           0       0.60      0.63      0.61      2483\n",
      "           1       0.61      0.58      0.60      2484\n",
      "\n",
      "    accuracy                           0.60      4967\n",
      "   macro avg       0.60      0.60      0.60      4967\n",
      "weighted avg       0.60      0.60      0.60      4967\n",
      "\n"
     ]
    }
   ],
   "source": [
    "print(\"Classification Report - Decision Tree Classifier\\n\\n\",\n",
    "      classification_report(y_test_sample, y_pred_dt2))\n",
    "\n"
   ]
  },
  {
   "cell_type": "code",
   "execution_count": 87,
   "id": "14202ac0",
   "metadata": {},
   "outputs": [
    {
     "data": {
      "text/plain": [
       "array([[1554,  929],\n",
       "       [1034, 1450]])"
      ]
     },
     "execution_count": 87,
     "metadata": {},
     "output_type": "execute_result"
    }
   ],
   "source": [
    "confusion_matrix(y_test_sample, y_pred_dt2)\n",
    "\n"
   ]
  },
  {
   "cell_type": "code",
   "execution_count": 88,
   "id": "122ae0e1",
   "metadata": {},
   "outputs": [
    {
     "name": "stdout",
     "output_type": "stream",
     "text": [
      "Accuracy of model on test dataset :- 0.6047916247231729\n"
     ]
    }
   ],
   "source": [
    "acc_dt = dt_classifier_2.score(X_test_sample, y_test_sample)\n",
    "print(f'Accuracy of model on test dataset :- {acc_dt}')"
   ]
  },
  {
   "cell_type": "code",
   "execution_count": 89,
   "id": "7378bb0e",
   "metadata": {},
   "outputs": [
    {
     "name": "stdout",
     "output_type": "stream",
     "text": [
      "AROC score :- \n",
      " 0.6047958646979816\n"
     ]
    }
   ],
   "source": [
    "print(f\"AROC score :- \\n {roc_auc_score(y_test_sample, y_pred_dt2)}\")"
   ]
  },
  {
   "cell_type": "code",
   "execution_count": null,
   "id": "a707aba9",
   "metadata": {},
   "outputs": [],
   "source": []
  },
  {
   "cell_type": "code",
   "execution_count": null,
   "id": "53e7b54b",
   "metadata": {},
   "outputs": [],
   "source": []
  }
 ],
 "metadata": {
  "kernelspec": {
   "display_name": "Python 3 (ipykernel)",
   "language": "python",
   "name": "python3"
  },
  "language_info": {
   "codemirror_mode": {
    "name": "ipython",
    "version": 3
   },
   "file_extension": ".py",
   "mimetype": "text/x-python",
   "name": "python",
   "nbconvert_exporter": "python",
   "pygments_lexer": "ipython3",
   "version": "3.9.5"
  }
 },
 "nbformat": 4,
 "nbformat_minor": 5
}
